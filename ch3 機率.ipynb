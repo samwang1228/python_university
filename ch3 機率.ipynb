{
 "cells": [
  {
   "cell_type": "markdown",
   "id": "2beebbd8",
   "metadata": {},
   "source": [
    "# 二像分布 "
   ]
  },
  {
   "cell_type": "code",
   "execution_count": 1,
   "id": "6c1a5e42",
   "metadata": {},
   "outputs": [
    {
     "name": "stdout",
     "output_type": "stream",
     "text": [
      "0.21093750000000006\n",
      "[0.046875  0.2109375 0.421875 ]\n"
     ]
    }
   ],
   "source": [
    "import scipy.stats as st \n",
    "import matplotlib.pyplot as plt\n",
    "b=st.binom.pmf(k=2,n=4,p=3/4)\n",
    "print(b)\n",
    "var=[1,2,3]\n",
    "number=4\n",
    "b=st.binom.pmf(k=var,n=number,p=3/4)\n",
    "print(b)"
   ]
  },
  {
   "cell_type": "markdown",
   "id": "54b09fcf",
   "metadata": {},
   "source": [
    "分布畫圖"
   ]
  },
  {
   "cell_type": "code",
   "execution_count": 2,
   "id": "1da0d49b",
   "metadata": {},
   "outputs": [
    {
     "data": {
      "text/plain": [
       "(array([ 0,  1,  2,  3,  4,  5,  6,  7,  8,  9, 10]),\n",
       " array([  1.,  10.,  45., 120., 210., 252., 210., 120.,  45.,  10.,   1.]))"
      ]
     },
     "execution_count": 2,
     "metadata": {},
     "output_type": "execute_result"
    }
   ],
   "source": [
    "import scipy.special as sp \n",
    "import numpy as np\n",
    "comb=sp.comb\n",
    "n=10\n",
    "x=np.arange(0,n+1)\n",
    "c=comb(n,x)\n",
    "x,c"
   ]
  },
  {
   "cell_type": "code",
   "execution_count": 3,
   "id": "168e93a2",
   "metadata": {},
   "outputs": [
    {
     "data": {
      "text/plain": [
       "(array([ 0,  1,  2,  3,  4,  5,  6,  7,  8,  9, 10]),\n",
       " array([ 1.048576e+06, -1.310720e+07,  7.372800e+07, -2.457600e+08,\n",
       "         5.376000e+08, -8.064000e+08,  8.400000e+08, -6.000000e+08,\n",
       "         2.812500e+08, -7.812500e+07,  9.765625e+06]))"
      ]
     },
     "execution_count": 3,
     "metadata": {},
     "output_type": "execute_result"
    }
   ],
   "source": [
    "def binom(x,n,p):\n",
    "    prob=comb(n,x)*p**x*(1-p)**(n-x)\n",
    "    return prob\n",
    "b=binom(x,n=10,p=5)\n",
    "x,b"
   ]
  },
  {
   "cell_type": "code",
   "execution_count": 4,
   "id": "4d6823a3",
   "metadata": {},
   "outputs": [
    {
     "data": {
      "image/png": "[encoded data removed]",
      "text/plain": [
       "<Figure size 432x288 with 1 Axes>"
      ]
     },
     "metadata": {
      "needs_background": "light"
     },
     "output_type": "display_data"
    }
   ],
   "source": [
    "b=binom(x,n=10,p=.5)\n",
    "plt.bar(x,b); plt.grid('on')"
   ]
  },
  {
   "cell_type": "markdown",
   "id": "6fefb3e6",
   "metadata": {},
   "source": [
    "好看的格式化"
   ]
  },
  {
   "cell_type": "code",
   "execution_count": 5,
   "id": "13a1a33e",
   "metadata": {},
   "outputs": [
    {
     "data": {
      "text/latex": [
       "$\\displaystyle p^{3} + 3 p^{2} q + 3 p^{2} r + 3 p q^{2} + 6 p q r + 3 p r^{2} + q^{3} + 3 q^{2} r + 3 q r^{2} + r^{3}$"
      ],
      "text/plain": [
       "p**3 + 3*p**2*q + 3*p**2*r + 3*p*q**2 + 6*p*q*r + 3*p*r**2 + q**3 + 3*q**2*r + 3*q*r**2 + r**3"
      ]
     },
     "execution_count": 5,
     "metadata": {},
     "output_type": "execute_result"
    }
   ],
   "source": [
    "import sympy as sy \n",
    "p,q,r=sy.symbols('p,q,r')\n",
    "n=3\n",
    "((p+q+r)**n).expand()"
   ]
  },
  {
   "cell_type": "markdown",
   "id": "4adefdd1",
   "metadata": {},
   "source": [
    "# 多個分布"
   ]
  },
  {
   "cell_type": "code",
   "execution_count": 6,
   "id": "d9b3ac77",
   "metadata": {},
   "outputs": [
    {
     "data": {
      "text/plain": [
       "0.11270300936510357"
      ]
     },
     "execution_count": 6,
     "metadata": {},
     "output_type": "execute_result"
    }
   ],
   "source": [
    "p1=2/9\n",
    "p2=1/6\n",
    "p3=11/18\n",
    "\n",
    "x1=2\n",
    "x2=1\n",
    "x3=3\n",
    "n=x1+x2+x3\n",
    "st.multinomial.pmf(x=[x1,x2,x3],n=n,p=[p1,p2,p3])"
   ]
  },
  {
   "cell_type": "markdown",
   "id": "525ae497",
   "metadata": {},
   "source": [
    "# 負二項分布"
   ]
  },
  {
   "cell_type": "code",
   "execution_count": 11,
   "id": "8b300817",
   "metadata": {},
   "outputs": [
    {
     "data": {
      "text/plain": [
       "[<matplotlib.lines.Line2D at 0x206a341dd60>]"
      ]
     },
     "execution_count": 11,
     "metadata": {},
     "output_type": "execute_result"
    },
    {
     "data": {
      "image/png": "[encoded data removed]",
      "text/plain": [
       "<Figure size 432x288 with 1 Axes>"
      ]
     },
     "metadata": {
      "needs_background": "light"
     },
     "output_type": "display_data"
    }
   ],
   "source": [
    "# def negBinom(試驗次數,成功次數,成功機率):\n",
    "#     失敗次數=測驗次數-成功次數\n",
    "#     prob=st.nbinom.pmf(k=失敗次數,n=成功次數,p=單次成功機率)\n",
    "#     return prob\n",
    "def negBinom(n,success,p):\n",
    "    fail=n-success\n",
    "    prob=st.nbinom.pmf(k=fail,n=success,p=p)\n",
    "    return prob\n",
    "# b=negBinom(6,4,0.55)\n",
    "# b\n",
    "# plt.plot(6,b,'red')"
   ]
  },
  {
   "cell_type": "markdown",
   "id": "9cb26703",
   "metadata": {},
   "source": [
    "# 普瓦松分布"
   ]
  },
  {
   "cell_type": "code",
   "execution_count": 12,
   "id": "568b2fab",
   "metadata": {},
   "outputs": [
    {
     "data": {
      "text/plain": [
       "0.10419563456702102"
      ]
     },
     "execution_count": 12,
     "metadata": {},
     "output_type": "execute_result"
    }
   ],
   "source": [
    "st.poisson.pmf(k=6,mu=4)# (總數,平均)"
   ]
  },
  {
   "cell_type": "markdown",
   "id": "c5b4fca7",
   "metadata": {},
   "source": [
    "畫圖"
   ]
  },
  {
   "cell_type": "code",
   "execution_count": 14,
   "id": "b4d73032",
   "metadata": {},
   "outputs": [
    {
     "data": {
      "image/png": "[encoded data removed]",
      "text/plain": [
       "<Figure size 432x288 with 1 Axes>"
      ]
     },
     "metadata": {
      "needs_background": "light"
     },
     "output_type": "display_data"
    }
   ],
   "source": [
    "μ=10\n",
    "x=np.arange(0,3*μ)\n",
    "pmf=st.poisson.pmf(k=x,mu=μ)\n",
    "plt.stem(x,pmf,use_line_collection=True)\n",
    "plt.xlabel('x');\n",
    "plt.ylabel('Pr');\n",
    "plt.grid('on')"
   ]
  },
  {
   "cell_type": "code",
   "execution_count": 20,
   "id": "93c70919",
   "metadata": {},
   "outputs": [
    {
     "data": {
      "text/plain": [
       "(0.04874040330397644, 0.04874040330397866)"
      ]
     },
     "execution_count": 20,
     "metadata": {},
     "output_type": "execute_result"
    }
   ],
   "source": [
    "a=0\n",
    "for i in range(16):\n",
    "    a+=st.poisson.pmf(k=i,mu=10)# (總數,平均)\n",
    "\n",
    "b=st.poisson.cdf(15,mu=10)\n",
    "1-a,1-b"
   ]
  },
  {
   "cell_type": "code",
   "execution_count": 26,
   "id": "e20b3954",
   "metadata": {},
   "outputs": [
    {
     "ename": "TypeError",
     "evalue": "'numpy.ndarray' object is not callable",
     "output_type": "error",
     "traceback": [
      "\u001b[1;31m---------------------------------------------------------------------------\u001b[0m",
      "\u001b[1;31mTypeError\u001b[0m                                 Traceback (most recent call last)",
      "\u001b[1;32m<ipython-input-26-24a4dbb36562>\u001b[0m in \u001b[0;36m<module>\u001b[1;34m\u001b[0m\n\u001b[0;32m      2\u001b[0m \u001b[0mn\u001b[0m\u001b[1;33m=\u001b[0m\u001b[1;36m10\u001b[0m\u001b[1;33m\u001b[0m\u001b[1;33m\u001b[0m\u001b[0m\n\u001b[0;32m      3\u001b[0m \u001b[0ms\u001b[0m\u001b[1;33m=\u001b[0m\u001b[0mnp\u001b[0m\u001b[1;33m.\u001b[0m\u001b[0marange\u001b[0m\u001b[1;33m(\u001b[0m\u001b[1;36m0\u001b[0m\u001b[1;33m,\u001b[0m\u001b[0mn\u001b[0m\u001b[1;33m+\u001b[0m\u001b[1;36m1\u001b[0m\u001b[1;33m)\u001b[0m\u001b[1;33m\u001b[0m\u001b[1;33m\u001b[0m\u001b[0m\n\u001b[1;32m----> 4\u001b[1;33m \u001b[0mpB\u001b[0m\u001b[1;33m=\u001b[0m\u001b[0mst\u001b[0m\u001b[1;33m.\u001b[0m\u001b[0mbinom\u001b[0m\u001b[1;33m,\u001b[0m\u001b[0mpmf\u001b[0m\u001b[1;33m(\u001b[0m\u001b[0mk\u001b[0m\u001b[1;33m=\u001b[0m\u001b[0ms\u001b[0m\u001b[1;33m,\u001b[0m\u001b[0mn\u001b[0m\u001b[1;33m=\u001b[0m\u001b[0mn\u001b[0m\u001b[1;33m,\u001b[0m\u001b[0mp\u001b[0m\u001b[1;33m=\u001b[0m\u001b[0mp\u001b[0m\u001b[1;33m)\u001b[0m\u001b[1;33m\u001b[0m\u001b[1;33m\u001b[0m\u001b[0m\n\u001b[0m\u001b[0;32m      5\u001b[0m \u001b[0mpP\u001b[0m\u001b[1;33m=\u001b[0m\u001b[0mst\u001b[0m\u001b[1;33m.\u001b[0m\u001b[0mpoisson\u001b[0m\u001b[1;33m.\u001b[0m\u001b[0mpmf\u001b[0m\u001b[1;33m(\u001b[0m\u001b[0mk\u001b[0m\u001b[1;33m=\u001b[0m\u001b[0ms\u001b[0m\u001b[1;33m,\u001b[0m\u001b[0mmu\u001b[0m\u001b[1;33m=\u001b[0m\u001b[0ms\u001b[0m\u001b[1;33m)\u001b[0m\u001b[1;33m\u001b[0m\u001b[1;33m\u001b[0m\u001b[0m\n\u001b[0;32m      6\u001b[0m \u001b[0mplt\u001b[0m\u001b[1;33m.\u001b[0m\u001b[0mplot\u001b[0m\u001b[1;33m(\u001b[0m\u001b[0ms\u001b[0m\u001b[1;33m,\u001b[0m\u001b[0mpB\u001b[0m\u001b[1;33m,\u001b[0m\u001b[1;34m'r-'\u001b[0m\u001b[1;33m,\u001b[0m\u001b[0mmarker\u001b[0m\u001b[1;33m=\u001b[0m\u001b[1;34m'o'\u001b[0m\u001b[1;33m)\u001b[0m\u001b[1;33m\u001b[0m\u001b[1;33m\u001b[0m\u001b[0m\n",
      "\u001b[1;31mTypeError\u001b[0m: 'numpy.ndarray' object is not callable"
     ]
    }
   ],
   "source": [
    "p=.5\n",
    "n=10\n",
    "s=np.arange(0,n+1)\n",
    "pB=st.binom,pmf(k=s,n=n,p=p)\n",
    "pP=st.poisson.pmf(k=s,mu=s)\n",
    "plt.plot(s,pB,'r-',marker='o')\n",
    "plt.plot(s,pB,'g-',marker='o')"
   ]
  },
  {
   "cell_type": "code",
   "execution_count": null,
   "id": "d3645978",
   "metadata": {},
   "outputs": [],
   "source": []
  }
 ],
 "metadata": {
  "kernelspec": {
   "display_name": "Python 3",
   "language": "python",
   "name": "python3"
  },
  "language_info": {
   "codemirror_mode": {
    "name": "ipython",
    "version": 3
   },
   "file_extension": ".py",
   "mimetype": "text/x-python",
   "name": "python",
   "nbconvert_exporter": "python",
   "pygments_lexer": "ipython3",
   "version": "3.8.8"
  }
 },
 "nbformat": 4,
 "nbformat_minor": 5
}
