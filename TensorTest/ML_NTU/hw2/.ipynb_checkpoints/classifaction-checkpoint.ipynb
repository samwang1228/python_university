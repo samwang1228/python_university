{
 "cells": [
  {
   "cell_type": "code",
   "execution_count": 1,
   "id": "45f55e61",
   "metadata": {},
   "outputs": [],
   "source": [
    "import numpy as np # linear algebra\n",
    "import pandas as pd # data processing, CSV file I/O (e.g. pd.read_csv)"
   ]
  },
  {
   "cell_type": "markdown",
   "id": "4cc70d0f",
   "metadata": {},
   "source": [
    "#  獲得training data 和testing data並將其存到array"
   ]
  },
  {
   "cell_type": "code",
   "execution_count": 2,
   "id": "fa56d4d3",
   "metadata": {},
   "outputs": [
    {
     "data": {
      "text/plain": [
       "(array([[33.,  1.,  0., ..., 52.,  0.,  1.],\n",
       "        [63.,  1.,  0., ..., 52.,  0.,  1.],\n",
       "        [71.,  0.,  0., ...,  0.,  0.,  1.],\n",
       "        ...,\n",
       "        [16.,  0.,  0., ...,  8.,  1.,  0.],\n",
       "        [48.,  1.,  0., ..., 52.,  0.,  1.],\n",
       "        [48.,  0.,  0., ...,  0.,  0.,  1.]]),\n",
       " array([1., 0., 0., ..., 0., 0., 0.]))"
      ]
     },
     "execution_count": 2,
     "metadata": {},
     "output_type": "execute_result"
    }
   ],
   "source": [
    "np.random.seed(0)\n",
    "X_train_fpath = 'X_train'\n",
    "Y_train_fpath = 'Y_train'\n",
    "X_test_fpath = 'X_test'\n",
    "output_fpath = 'output_{}.csv'\n",
    "# 读取csv保存在numpy数组\n",
    "with open(X_train_fpath) as f:\n",
    "    next(f)\n",
    "    X_train = np.array([line.strip('\\n').split(',')[1:] for line in f], dtype = float)#strip()表示删除掉data中的endl，split（‘,’）則是data中遇到‘,’ 就隔開\n",
    "with open(Y_train_fpath) as f:\n",
    "    next(f)\n",
    "    Y_train = np.array([line.strip('\\n').split(',')[1] for line in f], dtype = float)\n",
    "with open(X_test_fpath) as f:\n",
    "    next(f)\n",
    "    X_test = np.array([line.strip('\\n').split(',')[1:] for line in f], dtype = float)\n",
    "X_train, Y_train"
   ]
  },
  {
   "cell_type": "code",
   "execution_count": 3,
   "id": "72862fcf",
   "metadata": {},
   "outputs": [
    {
     "name": "stdout",
     "output_type": "stream",
     "text": [
      "Size of training set: 48830\n",
      "Size of development set: 5426\n",
      "Size of testing set: 27622\n",
      "Dimension of data: 510\n"
     ]
    }
   ],
   "source": [
    "def _normalize(X, train = True, specified_column = None, X_mean = None, X_std = None):\n",
    "  #這個函數對X中的特定列符號。\n",
    "    #訓練集的集中與標準差會在測試集中被再次使用\n",
    "    #\n",
    "    # 參數：\n",
    "    # X：被預測數據\n",
    "    # train: 'True' trainng data, 'False' testing data\n",
    "    # specific_column：要被標記的列索引，'None'代表所有列。\n",
    "    # X_mean: 訓練集的集中，當train = 'False'即測試集中使用。\n",
    "    # X_std: 訓練集的標準差，當train = 'False'即測試集中使用。\n",
    "   #輸出：\n",
    "    #X: 標準化後數據\n",
    "    # X_mean: 訓練集的濃度\n",
    "    # X_std: 訓練集的集中\n",
    "\n",
    "    if specified_column == None:\n",
    "        specified_column = np.arange(X.shape[1])#shape[1]代表矩阵的col\n",
    "    if train:\n",
    "        X_mean = np.mean(X[:, specified_column] ,0).reshape(1, -1)#reshape(1,-1) row=1 mean(0)將各個col的mean()回傳\n",
    "        X_std  = np.std(X[:, specified_column], 0).reshape(1, -1)\n",
    "\n",
    "    X[:,specified_column] = (X[:, specified_column] - X_mean) / (X_std + 1e-8)#(x-μ)/σ 1e-8 -> 00000001\n",
    "    #每個element-mean(col)/std(col) 自己所屬的col       \n",
    "    return X, X_mean, X_std\n",
    "def _train_dev_split(X, Y, dev_ratio = 0.25):\n",
    "    #這個函數將數據分割為訓練集，發展集\n",
    "    train_size = int(len(X) * (1 - dev_ratio))\n",
    "    return X[:train_size], Y[:train_size], X[train_size:], Y[train_size:]\n",
    "\n",
    "#對訓練集測試集\n",
    "X_train, X_mean, X_std = _normalize(X_train, train = True)\n",
    "X_test, _, _= _normalize(X_test, train = False, specified_column = None, X_mean = X_mean, X_std = X_std)\n",
    "#'_'做變量名合法，無用的變量，因為return 3個value而這裡mean、std用不到，\n",
    "    \n",
    "#分割訓練集、發展集\n",
    "dev_ratio = 0.1\n",
    "X_train, Y_train, X_dev, Y_dev = _train_dev_split(X_train, Y_train, dev_ratio = dev_ratio)\n",
    "\n",
    "train_size = X_train.shape[0]#训练集行数\n",
    "dev_size = X_dev.shape[0]#发展集行数\n",
    "test_size = X_test.shape[0]#测试集行数\n",
    "data_dim = X_train.shape[1]#训练集列数(维度)\n",
    "print('Size of training set: {}'.format(train_size))\n",
    "print('Size of development set: {}'.format(dev_size))\n",
    "print('Size of testing set: {}'.format(test_size))\n",
    "print('Dimension of data: {}'.format(data_dim))"
   ]
  },
  {
   "cell_type": "markdown",
   "id": "5451d7d5",
   "metadata": {},
   "source": [
    "# shape&reshape"
   ]
  },
  {
   "cell_type": "code",
   "execution_count": 4,
   "id": "f4b2b434",
   "metadata": {},
   "outputs": [],
   "source": [
    "# import numpy as np\n",
    "# k = np.matrix([[1, 2, 3, 4],\n",
    "#              [5, 6, 7, 8],\n",
    "#              [9, 10, 11, 12]])\n",
    "# print(np.shape(k))       # 输出（3，4）表示矩阵为3行4列\n",
    "# print(k.shape[0])        # shape[0]输出3，row\n",
    "# print(k.shape[1])        # 同理shape[1] col\n",
    "# arr=np.arange(16).reshape(2,8) #2row 8col\n",
    "# arr,arr.reshape(-1,1) #row自己算(-1代表電腦自己判斷) col為1\n"
   ]
  },
  {
   "cell_type": "code",
   "execution_count": 5,
   "id": "5331bd6a",
   "metadata": {},
   "outputs": [
    {
     "data": {
      "text/plain": [
       "9.00000001"
      ]
     },
     "execution_count": 5,
     "metadata": {},
     "output_type": "execute_result"
    }
   ],
   "source": [
    "1e-8+9"
   ]
  },
  {
   "cell_type": "code",
   "execution_count": 6,
   "id": "f8cdfad6",
   "metadata": {},
   "outputs": [],
   "source": [
    "# import numpy as np\n",
    "# X = np.matrix([[1.0, 2, 3, 4],\n",
    "#                [5, 6, 7, 8],\n",
    "#                [9, 10, 11, 12]])\n",
    "# temp=np.matrix([[1.0, 2, 3, 4],\n",
    "#              [5, 6, 7, 8],\n",
    "#              [9, 10, 11, 12]])\n",
    "# specified_column = np.arange(X.shape[1])#shape[1]代表矩阵的col\n",
    "# X_mean = np.mean(X[:, specified_column],0).reshape(1, -1)#reshape(1,-1)转换为行数1, 列数根据行数计算\n",
    "# X_std  = np.std(X[:, specified_column], 0).reshape(1, -1)\n",
    "\n",
    "# temp[:,specified_column] = (X - X_mean) / (X_std + 1e-8)#(x-μ)/σ 1e-8 -> 00000001\n",
    "# X,temp,X_mean,X_std,specified_column,X.item(0,3),X-X_mean"
   ]
  },
  {
   "cell_type": "markdown",
   "id": "79585f9e",
   "metadata": {},
   "source": [
    "# sigmoid函数和隨機抽樣 "
   ]
  },
  {
   "cell_type": "code",
   "execution_count": 7,
   "id": "d8f88967",
   "metadata": {},
   "outputs": [],
   "source": [
    "def _shuffle(X, Y):\n",
    "    # 该函数对两个等长的列表或数组洗牌(XY同步).\n",
    "    randomize = np.arange(len(X))#arange(len(X))返回0,1...len(X)\n",
    "    np.random.shuffle(randomize)#shuffle()隨機排序array value的順序\n",
    "    return (X[randomize], Y[randomize])\n",
    "def _sigmoid(z):\n",
    "    # Sigmoid函数用来计算概率.\n",
    "    # 为避免溢出, 限定输出的最大最小值.\n",
    "    #chip(data,min,max) 當data<min data=min ，data>max data=max\n",
    "    return np.clip(1 / (1.0 + np.exp(-z)), 1e-8, 1 - (1e-8))#clip将数限定到范围1e-8和1-(1e-8)中"
   ]
  },
  {
   "cell_type": "markdown",
   "id": "dbe643f6",
   "metadata": {},
   "source": [
    "# step 1 model "
   ]
  },
  {
   "cell_type": "markdown",
   "id": "fd4b2839",
   "metadata": {},
   "source": [
    "\\begin{equation}\n",
    "f_{w,b}(x)=\\sigma(\\sum_{i=i}^n w_{i}x_{i}+b)\n",
    "\\end{equation}"
   ]
  },
  {
   "cell_type": "code",
   "execution_count": 8,
   "id": "03107dd8",
   "metadata": {},
   "outputs": [],
   "source": [
    "def _f(X, w, b):\n",
    "    # 对率回归函数, 用w b作为参数\n",
    "    #\n",
    "    # 参数:\n",
    "    #     X: data, shape = [小批次的尺寸batch_size, data_dimension]\n",
    "    #     w: weight 向量, shape = [data_dimension, ]\n",
    "    #     b: bias, 标量\n",
    "    # 输出:\n",
    "    #     每一行X为正例的预测概率, shape = [batch_size, ]\n",
    "    return _sigmoid(np.matmul(X, w) + b)#matmul()->矩陣相乘\n",
    "def _predict(X, w, b):\n",
    "    # 通過把對回歸函數的的结果四舍五入(round), 轉為int, 得到每行X真正的预测值.\n",
    "    return np.round(_f(X, w, b)).astype(np.int)\n",
    "    \n",
    "def _accuracy(Y_pred, Y_label):\n",
    "    # 该函数计算预测精确度\n",
    "    acc = 1 - np.mean(np.abs(Y_pred - Y_label))#error rate 1/n*Σ|y*-y|\n",
    "    return acc"
   ]
  },
  {
   "cell_type": "markdown",
   "id": "6f23a4c9",
   "metadata": {},
   "source": [
    "#  Loss Function and Gradient Descent"
   ]
  },
  {
   "cell_type": "markdown",
   "id": "9415fe32",
   "metadata": {},
   "source": [
    "classifcation: \n",
    "\\begin{equation}\n",
    "p(x=1)  -> \\hat{y}^n\n",
    "\\end{equation}\n",
    "\\begin{equation}\n",
    "  p(x=0)  -> 1-\\hat{y}^n\n",
    "\\end{equation}\n",
    "\n",
    "Loss Function:\n",
    "\\begin{equation}\n",
    "-lnL(w,b)=\\sum_{i=n} -[y^nlnf_{w,b}(x^n)+(1-y^n)ln(1-f_{w,b}(x^n))] \n",
    "\\end{equation}"
   ]
  },
  {
   "cell_type": "code",
   "execution_count": 9,
   "id": "bb14ee62",
   "metadata": {},
   "outputs": [],
   "source": [
    "def _cross_entropy_loss(y_pred, Y_label):\n",
    "    # 该函数计算交叉熵.\n",
    "    #\n",
    "    # 参数:\n",
    "    #     y_pred: 预测概率, float vector\n",
    "    #     Y_label: 标准答案(ground truth)标记, bool vector\n",
    "    # Output:\n",
    "    #     cross entropy, scalar\n",
    "    cross_entropy = -np.dot(Y_label, np.log(y_pred)) - np.dot((1 - Y_label), np.log(1 - y_pred))#log默认以e为底\n",
    "    return cross_entropy"
   ]
  },
  {
   "cell_type": "markdown",
   "id": "b45e04ff",
   "metadata": {},
   "source": [
    "Gradient Descent:\n",
    "\\begin{equation}\n",
    "w_{i}=w_{i}-\\eta\\sum_{i=n} -(\\hat{y}^n -f_{w,b}(x^n))x_{i}^n\n",
    "\\end{equation}"
   ]
  },
  {
   "cell_type": "code",
   "execution_count": 10,
   "id": "5d9020b7",
   "metadata": {},
   "outputs": [],
   "source": [
    "def _gradient(X, Y_label, w, b):\n",
    "  # 關於weight w和bias b, 用cross entropy損失計算梯度.\n",
    "    y_pred = _f(X, w, b)\n",
    "    pred_error = Y_label - y_pred#誤差\n",
    "    w_grad = -np.sum(pred_error * X.T, 1)#sum参数axis=1,即将每一行的元素相加,將矩陣壓縮為一列\n",
    "    b_grad = -np.sum(pred_error)\n",
    "    return w_grad, b_grad\n",
    "# regularization_weight = 1\n",
    "# # 關於weight w和bias b, 用交叉熵損失計算梯度.\n",
    "# y_pred = _f(X, w, b)#對率回歸\n",
    "# pred_error = Y_label - y_pred#誤差\n",
    "# regularization = pred_error+regularization_weight*np.dot(w, w)#正則化損失, scalar\n",
    "# # w_grad = -np.sum((pred_error+regularization) * X.T, 1)\n",
    "# w_grad = -np.sum((pred_error) * X.T, 1)#sum參數axis=1是壓縮列,即將每一行的元素相加,將矩陣壓縮為一列\n",
    "# b_grad = -np.sum(pred_error)\n",
    "# # print(np.shape(pred_error), np.shape(X.T))\n",
    "# return w_grad, b_grad"
   ]
  },
  {
   "cell_type": "markdown",
   "id": "1205589c",
   "metadata": {},
   "source": [
    "#  線性回歸損失函數正則化"
   ]
  },
  {
   "cell_type": "markdown",
   "id": "c5b8a0c5",
   "metadata": {},
   "source": [
    "原來的損失函式只考慮了預測的誤差, 加一項考慮w大小(𝜆∑(𝑤𝑖 )^2),但不用考慮bias, bias與平滑程度無關. $$ L = \\sum{n} ( \\hat{y}^n – ( b + w*x_{cp}^n ) )^2 + \\lambda \\sum ( w_i )^2 $$ 期待參數的值更小的function, 意味著更平滑, 輸出受輸入影響更小, 當測試集的輸入含噪聲時, 平滑的函式受更小的影響. λ越高越平滑, 在訓練集上得到的誤差越大,但是在測試集上先減小後增加."
   ]
  },
  {
   "cell_type": "markdown",
   "id": "01bab09e",
   "metadata": {},
   "source": [
    "# 對率回歸損失函數正則化"
   ]
  },
  {
   "cell_type": "markdown",
   "id": "09f0b437",
   "metadata": {},
   "source": [
    "\\begin{equation}\n",
    "w_{i}=w_{i}-\\eta \\frac{\\delta}{\\delta w_{i}} I(w) \n",
    "\\end{equation}"
   ]
  },
  {
   "cell_type": "markdown",
   "id": "baec97d1",
   "metadata": {},
   "source": [
    "\\begin{equation}\n",
    " =w_{i}-\\eta [\\frac{1}{m}\\sum_{n=1}^m(f_{w}(x^n)-y^n)x_{i}^n+\\frac{\\lambda}{m}w_{i}]\n",
    "\\end{equation}"
   ]
  },
  {
   "cell_type": "markdown",
   "id": "6008b81c",
   "metadata": {},
   "source": [
    "\\begin{equation}\n",
    " =w_{i}(1-\\eta\\frac{\\lambda}{m})-\\eta\\frac{1}{m}\\sum_{n=1}^m((f(x^n)-y^n)x_{i}^n)\n",
    "\\end{equation}"
   ]
  },
  {
   "cell_type": "code",
   "execution_count": 11,
   "id": "02862a52",
   "metadata": {},
   "outputs": [
    {
     "name": "stdout",
     "output_type": "stream",
     "text": [
      "Training loss: 0.26749405521279546\n",
      "Development loss: 0.2854247670034796\n",
      "Training accuracy: 0.8850501740733155\n",
      "Development accuracy: 0.8761518614080354\n"
     ]
    }
   ],
   "source": [
    "# report2-cell\n",
    "# 将 weights和 bias初始化为0\n",
    "w = np.zeros((data_dim,)) #zeros第一个参数为形状\n",
    "b = np.zeros((1,))\n",
    "\n",
    "# 训练超参数  \n",
    "# max_iter = 10\n",
    "max_iter = 20\n",
    "batch_size = 8\n",
    "learning_rate = 0.2\n",
    "regularization_weight = 0.005\n",
    "\n",
    "\n",
    "# 保存每一次迭代的损失与精确度, 用来画图\n",
    "train_loss = []\n",
    "dev_loss = []\n",
    "train_acc = []\n",
    "dev_acc = []\n",
    "\n",
    "# 计参数更新次数(步数)\n",
    "step = 1\n",
    "for epoch in range(max_iter):\n",
    "    # 每一代(epoch)随机洗牌\n",
    "    X_train, Y_train = _shuffle(X_train, Y_train)\n",
    "        \n",
    "    # 小批训练\n",
    "    for idx in range(int(np.floor(train_size / batch_size))):\n",
    "        # 取这一小批的X, Y\n",
    "        X = X_train[idx*batch_size:(idx+1)*batch_size]\n",
    "        Y = Y_train[idx*batch_size:(idx+1)*batch_size]\n",
    "\n",
    "        # 计算梯度\n",
    "        w_grad, b_grad = _gradient(X, Y, w, b)\n",
    "            \n",
    "        # 利用梯度下降更新参数wb\n",
    "        # 学习率随时间(step)减少\n",
    "        w = w*(1-(learning_rate/np.sqrt(step))*regularization_weight) - learning_rate/np.sqrt(step) * w_grad\n",
    "        b = b - learning_rate/np.sqrt(step) * b_grad\n",
    "\n",
    "        step = step + 1\n",
    "    y_train_pred = _f(X_train, w, b)\n",
    "    Y_train_pred = np.round(y_train_pred)\n",
    "    train_acc.append(_accuracy(Y_train_pred, Y_train))\n",
    "    train_loss.append(_cross_entropy_loss(y_train_pred, Y_train) / train_size)#/ train_size消除训练集与发展集大小不同带来的影响\n",
    "\n",
    "    y_dev_pred = _f(X_dev, w, b)\n",
    "    Y_dev_pred = np.round(y_dev_pred)\n",
    "    dev_acc.append(_accuracy(Y_dev_pred, Y_dev))\n",
    "    dev_loss.append(_cross_entropy_loss(y_dev_pred, Y_dev) / dev_size)\n",
    "\n",
    "print('Training loss: {}'.format(train_loss[-1]))#[-1]表示数组中最后一位\n",
    "print('Development loss: {}'.format(dev_loss[-1]))\n",
    "print('Training accuracy: {}'.format(train_acc[-1]))\n",
    "print('Development accuracy: {}'.format(dev_acc[-1]))"
   ]
  },
  {
   "cell_type": "code",
   "execution_count": 14,
   "id": "868e83e8",
   "metadata": {},
   "outputs": [
    {
     "data": {
      "image/png": "[encoded data removed]",
      "text/plain": [
       "<Figure size 432x288 with 1 Axes>"
      ]
     },
     "metadata": {
      "needs_background": "light"
     },
     "output_type": "display_data"
    },
    {
     "data": {
      "image/png": "[encoded data removed]",
      "text/plain": [
       "<Figure size 432x288 with 1 Axes>"
      ]
     },
     "metadata": {
      "needs_background": "light"
     },
     "output_type": "display_data"
    }
   ],
   "source": [
    "import matplotlib.pyplot as plt\n",
    "\n",
    "# Loss curve\n",
    "plt.plot(train_loss)# x可省略,默认[0,1..,N-1]递增\n",
    "plt.plot(dev_loss)\n",
    "plt.title('Loss')\n",
    "plt.legend(['train', 'dev'])#默认参数: 图例的名称\n",
    "# plt.savefig('/kaggle/working/loss.png')\n",
    "plt.show()\n",
    "\n",
    "# Accuracy curve\n",
    "plt.plot(train_acc)\n",
    "plt.plot(dev_acc)\n",
    "plt.title('Accuracy')\n",
    "plt.legend(['train', 'dev'])\n",
    "# plt.savefig('acc.png')\n",
    "plt.show()\n"
   ]
  },
  {
   "cell_type": "markdown",
   "id": "bbb5a25b",
   "metadata": {},
   "source": [
    "# 將結果存到csv output_logistic.csv"
   ]
  },
  {
   "cell_type": "code",
   "execution_count": 15,
   "id": "dd1d422a",
   "metadata": {},
   "outputs": [
    {
     "name": "stdout",
     "output_type": "stream",
     "text": [
      " Not in universe -1.7568516375058685\n",
      " Unemployed full-time 1.048849690674079\n",
      " Spouse of householder -0.8501488844957024\n",
      " 1 0.7659169463098638\n",
      " Other Rel <18 never married RP of subfamily -0.7248661467576015\n",
      "capital losses 0.6455540281554379\n",
      "num persons worked for employer 0.6390756608811519\n",
      " Child 18+ ever marr Not in a subfamily -0.6265216786839272\n",
      " Other Rel <18 ever marr RP of subfamily -0.5996063089812009\n",
      " Italy -0.5683519501192572\n"
     ]
    },
    {
     "name": "stderr",
     "output_type": "stream",
     "text": [
      "<ipython-input-8-232669cce4a8>:13: DeprecationWarning: `np.int` is a deprecated alias for the builtin `int`. To silence this warning, use `int` by itself. Doing this will not modify any behavior and is safe. When replacing `np.int`, you may wish to use e.g. `np.int64` or `np.int32` to specify the precision. If you wish to review your current use, check the release note link for additional information.\n",
      "Deprecated in NumPy 1.20; for more details and guidance: https://numpy.org/devdocs/release/1.20.0-notes.html#deprecations\n",
      "  return np.round(_f(X, w, b)).astype(np.int)\n"
     ]
    }
   ],
   "source": [
    "predictions = _predict(X_test, w, b)\n",
    "with open(output_fpath.format('logistic'), 'w') as f:\n",
    "    f.write('id,label\\n')\n",
    "    for i, label in  enumerate(predictions):#enumerate列出数据和生成数据下标\n",
    "        f.write('{},{}\\n'.format(i, label))\n",
    "\n",
    "# 筛选最大(显著)的几个weight, 即得到最有用的特征\n",
    "ind = np.argsort(np.abs(w))[::-1]#argsort从小到大排序, ::-1从后向前读取\n",
    "with open(X_test_fpath) as f:\n",
    "    content = f.readline().strip('\\n').split(',')\n",
    "features = np.array(content)\n",
    "for i in ind[0:10]:\n",
    "    print(features[i], w[i])"
   ]
  },
  {
   "cell_type": "markdown",
   "id": "3029197a",
   "metadata": {},
   "source": [
    "# 機率生成模型"
   ]
  },
  {
   "cell_type": "code",
   "execution_count": 16,
   "id": "347bfb3a",
   "metadata": {},
   "outputs": [],
   "source": [
    "# Parse csv files to numpy array\n",
    "with open(X_train_fpath) as f:\n",
    "    next(f)\n",
    "    X_train = np.array([line.strip('\\n').split(',')[1:] for line in f], dtype = float)\n",
    "with open(Y_train_fpath) as f:\n",
    "    next(f)\n",
    "    Y_train = np.array([line.strip('\\n').split(',')[1] for line in f], dtype = float)\n",
    "with open(X_test_fpath) as f:\n",
    "    next(f)\n",
    "    X_test = np.array([line.strip('\\n').split(',')[1:] for line in f], dtype = float)\n",
    "\n",
    "# Normalize training and testing data\n",
    "X_train, X_mean, X_std = _normalize(X_train, train = True)\n",
    "X_test, _, _= _normalize(X_test, train = False, specified_column = None, X_mean = X_mean, X_std = X_std)"
   ]
  },
  {
   "cell_type": "markdown",
   "id": "6bd6c6c5",
   "metadata": {},
   "source": [
    "分類"
   ]
  },
  {
   "cell_type": "code",
   "execution_count": 17,
   "id": "be2bd023",
   "metadata": {},
   "outputs": [],
   "source": [
    "X_train_0 = np.array([x for x, y in zip(X_train, Y_train) if y == 0])\n",
    "X_train_1 = np.array([x for x, y in zip(X_train, Y_train) if y == 1])"
   ]
  },
  {
   "cell_type": "markdown",
   "id": "c4e0c5b0",
   "metadata": {},
   "source": [
    "平均數公式\n",
    "\\begin{equation}\n",
    " \\mu^*=E(x)=\\frac{1}{m}\\sum_{n=1}^n x^n\n",
    "\\end{equation}"
   ]
  },
  {
   "cell_type": "code",
   "execution_count": 18,
   "id": "bb50bb83",
   "metadata": {},
   "outputs": [],
   "source": [
    "# 计算类内平均值\n",
    "mean_0 = np.mean(X_train_0, axis = 0)#axis = 0：压缩行，对各列求均值，返回 1* n 矩阵\n",
    "mean_1 = np.mean(X_train_1, axis = 0)  "
   ]
  },
  {
   "cell_type": "markdown",
   "id": "ba27bf4c",
   "metadata": {},
   "source": [
    "標準差公式\n",
    "\\begin{equation}\n",
    " \\sum_{}^*=cov(X,X)=E[(X-\\mu)(X-\\mu)^T]=\\frac{1}{n}\\sum_{n=1}^n (x^n-\\mu^*)(x^n-\\mu^*)^T\n",
    "\\end{equation}"
   ]
  },
  {
   "cell_type": "code",
   "execution_count": 19,
   "id": "eac50117",
   "metadata": {},
   "outputs": [],
   "source": [
    "#協方差矩陣初始化\n",
    "cov_0 = np.zeros((data_dim, data_dim))\n",
    "cov_1 = np.zeros((data_dim, data_dim))\n",
    "#計算類內協方差\n",
    "for x in X_train_0:\n",
    "    cov_0 += np.dot(np.transpose([x - mean_0]), [x - mean_0]) / X_train_0.shape[0]#shape[0]：表示矩陣的row\n",
    "for x in X_train_1:\n",
    "    cov_1 += np.dot(np.transpose([x - mean_1]), [x - mean_1]) / X_train_1.shape[0]\n",
    "\n",
    "#對類內協方差加權平均, 獲得共用協方差.\n",
    "cov = (cov_0 * X_train_0.shape[0] + cov_1 * X_train_1.shape[0]) / (X_train_0.shape[0] + X_train_1.shape[0])"
   ]
  },
  {
   "cell_type": "markdown",
   "id": "7a3f86a4",
   "metadata": {},
   "source": [
    "# 計算weights, bias"
   ]
  },
  {
   "cell_type": "markdown",
   "id": "919af8ab",
   "metadata": {},
   "source": [
    "權重矩陣與偏差向量可以直接被計算出來，算法可以參考李宏毅分類一節.\n",
    "\n",
    "由於協方差矩陣可能是奇異的, np.linalg.inv()求矩陣的逆可能出現較大數值誤差.\n",
    "\n",
    "通過 SVD 分解, 可用有效精確地得到矩陣的逆.\n",
    "\\begin{equation}\n",
    " s_{w}=U\\Sigma V^T\n",
    "\\end{equation}\n",
    "\\begin{equation}\n",
    " s_{w}^{-1}=V\\Sigma^{-1} U^T\n",
    "\\end{equation}\n",
    "代入np.linalg.svd返回值:\n",
    "\\begin{equation}\n",
    "cov=USV\n",
    "\\end{equation}\n",
    "\\begin{equation}\n",
    "inv=cov^{-1}=V^TS^{-1}U^T\n",
    "\\end{equation}"
   ]
  },
  {
   "cell_type": "code",
   "execution_count": 20,
   "id": "44d7f013",
   "metadata": {},
   "outputs": [],
   "source": [
    "# 目標是計算協方差矩陣cov的逆. cov可能是奇異的, np.linalg.inv()求矩陣的逆可能出現較大誤差.所以通過 SVD 分解\n",
    "u, s, v = np.linalg.svd(cov, full_matrices=False)\n",
    "inv = np.matmul(v.T * 1 / s, u.T)"
   ]
  },
  {
   "cell_type": "markdown",
   "id": "66bdbf4c",
   "metadata": {},
   "source": [
    "# 計算weights和bias解析解"
   ]
  },
  {
   "cell_type": "markdown",
   "id": "b1adac36",
   "metadata": {},
   "source": [
    "\\begin{equation}\n",
    "P(C_{1}|x)=\\sigma(w.x+b)\n",
    "\\end{equation}\n",
    "\\begin{equation}\n",
    "if P(C_{1}|x)>0.5 , x belongs to class1\n",
    "\\end{equation}"
   ]
  },
  {
   "cell_type": "markdown",
   "id": "5ff1b995",
   "metadata": {},
   "source": [
    "\\begin{equation}\n",
    "w^T=(\\mu^1-\\mu^2)^T \\Sigma^{-1}\n",
    "\\end{equation}\n",
    "\\begin{equation}\n",
    "b=-\\frac{1}{2}(\\mu^1)^T\\Sigma^{-1}\\mu^1+\\frac{1}{2}(\\mu^2)^T\\Sigma^{-1}\\mu^2+ln\\frac{N_{1}}{N_{2}}\n",
    "\\end{equation}"
   ]
  },
  {
   "cell_type": "code",
   "execution_count": 21,
   "id": "d0a2019a",
   "metadata": {},
   "outputs": [
    {
     "name": "stdout",
     "output_type": "stream",
     "text": [
      "Training accuracy: 0.8687518431141257\n"
     ]
    },
    {
     "name": "stderr",
     "output_type": "stream",
     "text": [
      "<ipython-input-8-232669cce4a8>:13: DeprecationWarning: `np.int` is a deprecated alias for the builtin `int`. To silence this warning, use `int` by itself. Doing this will not modify any behavior and is safe. When replacing `np.int`, you may wish to use e.g. `np.int64` or `np.int32` to specify the precision. If you wish to review your current use, check the release note link for additional information.\n",
      "Deprecated in NumPy 1.20; for more details and guidance: https://numpy.org/devdocs/release/1.20.0-notes.html#deprecations\n",
      "  return np.round(_f(X, w, b)).astype(np.int)\n"
     ]
    }
   ],
   "source": [
    "# 直接計算weights和bias\n",
    "#由於y=0的含義是類2, 所以此處mean0-mean1即代表μ2-μ1\n",
    "# 相當於代公式代反了\n",
    "# 本來是\n",
    "# y---類\n",
    "# 1---1\n",
    "# 0---2\n",
    "# 當成了\n",
    "# y---類\n",
    "# 1---2\n",
    "# 0---1\n",
    "w = np.dot(mean_0 - mean_1, inv)#此處inv·μ=μ·inv\n",
    "b = (-0.5) * np.dot(mean_0, np.dot(inv, mean_0)) + 0.5 * np.dot(mean_1, np.dot(inv, mean_1))\\\n",
    "    + np.log(float(X_train_0.shape[0]) / X_train_1.shape[0]) #矩陣與向量進行運算時，向量mean即μ會進行自動轉置操作\n",
    "\n",
    "# 計算訓練集精度\n",
    "Y_train_pred = 1 - _predict(X_train, w, b)#為什麼要'1-'翻轉類\n",
    "print('Training accuracy: {}'.format(_accuracy(Y_train_pred, Y_train)))"
   ]
  },
  {
   "cell_type": "markdown",
   "id": "5008d9cf",
   "metadata": {},
   "source": [
    "# 預測測試集的資料標籤並且存在 output_generative.csv 中。"
   ]
  },
  {
   "cell_type": "code",
   "execution_count": 23,
   "id": "81282848",
   "metadata": {},
   "outputs": [
    {
     "name": "stdout",
     "output_type": "stream",
     "text": [
      " Retail trade 8.9287109375\n",
      " 34 -6.82275390625\n",
      " 37 -6.23779296875\n",
      " Other service -6.0537109375\n",
      " Medical except hospital -3.609375\n",
      " 32 3.4931640625\n",
      " 35 3.147216796875\n",
      " Private household services -2.9342041015625\n",
      " 39 2.861572265625\n",
      "weeks worked in year -2.828125\n"
     ]
    },
    {
     "name": "stderr",
     "output_type": "stream",
     "text": [
      "<ipython-input-8-232669cce4a8>:13: DeprecationWarning: `np.int` is a deprecated alias for the builtin `int`. To silence this warning, use `int` by itself. Doing this will not modify any behavior and is safe. When replacing `np.int`, you may wish to use e.g. `np.int64` or `np.int32` to specify the precision. If you wish to review your current use, check the release note link for additional information.\n",
      "Deprecated in NumPy 1.20; for more details and guidance: https://numpy.org/devdocs/release/1.20.0-notes.html#deprecations\n",
      "  return np.round(_f(X, w, b)).astype(np.int)\n"
     ]
    }
   ],
   "source": [
    "# 预测测试集标签\n",
    "predictions = 1 - _predict(X_test, w, b)#由于公式代反了, 所以预测出的类和对率回归相反. 用1 -调整过来\n",
    "with open(output_fpath.format('generative'), 'w') as f:\n",
    "    f.write('id,label\\n')\n",
    "    for i, label in  enumerate(predictions):\n",
    "        f.write('{},{}\\n'.format(i, label))\n",
    "\n",
    "# 输出最显著特征\n",
    "ind = np.argsort(np.abs(w))[::-1]\n",
    "with open(X_test_fpath) as f:\n",
    "    content = f.readline().strip('\\n').split(',')\n",
    "features = np.array(content)\n",
    "for i in ind[0:10]:\n",
    "    print(features[i], w[i])"
   ]
  },
  {
   "cell_type": "code",
   "execution_count": null,
   "id": "471b1667",
   "metadata": {},
   "outputs": [],
   "source": []
  }
 ],
 "metadata": {
  "kernelspec": {
   "display_name": "Python 3",
   "language": "python",
   "name": "python3"
  },
  "language_info": {
   "codemirror_mode": {
    "name": "ipython",
    "version": 3
   },
   "file_extension": ".py",
   "mimetype": "text/x-python",
   "name": "python",
   "nbconvert_exporter": "python",
   "pygments_lexer": "ipython3",
   "version": "3.8.8"
  }
 },
 "nbformat": 4,
 "nbformat_minor": 5
}
