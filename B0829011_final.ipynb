{
 "cells": [
  {
   "cell_type": "markdown",
   "id": "75e9ec79",
   "metadata": {},
   "source": [
    "#  第1題\n"
   ]
  },
  {
   "cell_type": "code",
   "execution_count": 4,
   "id": "f4ab03c0",
   "metadata": {},
   "outputs": [
    {
     "data": {
      "text/plain": [
       "5"
      ]
     },
     "execution_count": 4,
     "metadata": {},
     "output_type": "execute_result"
    }
   ],
   "source": [
    "import numpy      as np\n",
    "import scipy.special  as sp\n",
    "import scipy.stats   as st\n",
    "import pandas      as pd\n",
    "\n",
    "\n",
    "n= 10 \n",
    "μ= 5\n",
    "σ= 2\n",
    "Exbar=μ\n",
    "Exbar"
   ]
  },
  {
   "cell_type": "markdown",
   "id": "48479038",
   "metadata": {},
   "source": [
    "# 第四題"
   ]
  },
  {
   "cell_type": "code",
   "execution_count": 5,
   "id": "916ef59d",
   "metadata": {},
   "outputs": [
    {
     "data": {
      "text/plain": [
       "0.5"
      ]
     },
     "execution_count": 5,
     "metadata": {},
     "output_type": "execute_result"
    }
   ],
   "source": [
    "varxbar=μ/n\n",
    "varxbar"
   ]
  },
  {
   "cell_type": "markdown",
   "id": "e8e65c14",
   "metadata": {},
   "source": [
    "# 第二題"
   ]
  },
  {
   "cell_type": "code",
   "execution_count": 7,
   "id": "1b82a23a",
   "metadata": {},
   "outputs": [
    {
     "data": {
      "text/plain": [
       "4"
      ]
     },
     "execution_count": 7,
     "metadata": {},
     "output_type": "execute_result"
    }
   ],
   "source": [
    "Es2=σ**2\n",
    "Es2"
   ]
  },
  {
   "cell_type": "markdown",
   "id": "1ff21592",
   "metadata": {},
   "source": []
  },
  {
   "cell_type": "markdown",
   "id": "0993d544",
   "metadata": {},
   "source": [
    "#  第15題"
   ]
  },
  {
   "cell_type": "code",
   "execution_count": 98,
   "id": "abfd3a73",
   "metadata": {},
   "outputs": [
    {
     "data": {
      "text/plain": [
       "(3.840637584900734, 6.159362415099266)"
      ]
     },
     "execution_count": 98,
     "metadata": {},
     "output_type": "execute_result"
    }
   ],
   "source": [
    "n=10\n",
    "μ=5\n",
    "σ=2\n",
    "t_1=st.t.isf(q=.05,df=9)\n",
    "t_2=st.t.isf(q=.05,df=9)\n",
    "# prob= st.t.cdf(t_1,df=9) \\\n",
    "#      -st.t.cdf(-t_2,df=9)\n",
    "μ-(t_1*σ)/(n**0.5),μ+(t_1*σ)/(n**0.5)"
   ]
  },
  {
   "cell_type": "markdown",
   "id": "b07c115d",
   "metadata": {},
   "source": [
    "# 第12題"
   ]
  },
  {
   "cell_type": "code",
   "execution_count": 22,
   "id": "4f3d987e",
   "metadata": {},
   "outputs": [
    {
     "data": {
      "text/plain": [
       "0.656563603862077"
      ]
     },
     "execution_count": 22,
     "metadata": {},
     "output_type": "execute_result"
    }
   ],
   "source": [
    "# t_1=st.t.isf(q=1,df=9)\n",
    "# t_2=st.t.isf(q=1,df=9)\n",
    "tq=st.t.cdf(1,df=9)\n",
    "t_1=st.t.isf(q=tq,df=9)\n",
    "t_2=st.t.isf(q=tq,df=9)\n",
    "prob= st.t.cdf(t_1,df=9) \\\n",
    "     -st.t.cdf(-t_2,df=9)\n",
    "-prob"
   ]
  },
  {
   "cell_type": "markdown",
   "id": "991fa2fa",
   "metadata": {},
   "source": [
    "# 第16題"
   ]
  },
  {
   "cell_type": "code",
   "execution_count": 77,
   "id": "66d644c2",
   "metadata": {},
   "outputs": [
    {
     "data": {
      "text/plain": [
       "160.07999999999998"
      ]
     },
     "execution_count": 77,
     "metadata": {},
     "output_type": "execute_result"
    }
   ],
   "source": [
    "import numpy as np\n",
    "x=np.array([147.6 ,185.9 ,154,147.2,168.6,\n",
    "            146.8 ,162.6 ,164.1,152.2,171.8]\n",
    "          )\n",
    "xBar1=x.mean()\n",
    "\n",
    "xBar1"
   ]
  },
  {
   "cell_type": "markdown",
   "id": "d07c7986",
   "metadata": {},
   "source": [
    "# 第17題"
   ]
  },
  {
   "cell_type": "code",
   "execution_count": 78,
   "id": "8dca71ee",
   "metadata": {},
   "outputs": [
    {
     "data": {
      "text/plain": [
       "12.893564286108015"
      ]
     },
     "execution_count": 78,
     "metadata": {},
     "output_type": "execute_result"
    }
   ],
   "source": [
    "s1=x.std(ddof=1)\n",
    "s1"
   ]
  },
  {
   "cell_type": "markdown",
   "id": "08e87f61",
   "metadata": {},
   "source": [
    "# 第18題"
   ]
  },
  {
   "cell_type": "code",
   "execution_count": 79,
   "id": "296801b5",
   "metadata": {},
   "outputs": [
    {
     "data": {
      "text/plain": [
       "(152.08848606082677, 168.0715139391732)"
      ]
     },
     "execution_count": 79,
     "metadata": {},
     "output_type": "execute_result"
    }
   ],
   "source": [
    "n1=x.size\n",
    "cl=.95\n",
    "# t_18_1,t_18_2=st.t.interval(cl,df=n-1)\n",
    "μ1=xBar1-1.96*(s1/n1**0.5)\n",
    "μ2=xBar1+1.96*(s1/n1**0.5)\n",
    "μ1,μ2"
   ]
  },
  {
   "cell_type": "markdown",
   "id": "dc322fe8",
   "metadata": {},
   "source": [
    "# 第19題"
   ]
  },
  {
   "cell_type": "code",
   "execution_count": 80,
   "id": "aa457823",
   "metadata": {},
   "outputs": [
    {
     "data": {
      "text/plain": [
       "(155.83784914311923, 167.39215085688073)"
      ]
     },
     "execution_count": 80,
     "metadata": {},
     "output_type": "execute_result"
    }
   ],
   "source": [
    "x2=np.array([147.6 ,185.9 ,154,147.2,168.6,\n",
    "            146.8 ,162.6 ,164.1,152.2,171.8,\n",
    "            151.4,152.0,177.1,155.1,159.8,\n",
    "            188.0,163.7,178.6,144.0,161.8]\n",
    "          )\n",
    "n2=x2.size\n",
    "s2=x2.std(ddof=1)\n",
    "xBar2=x2.mean()\n",
    "μ1_9=xBar2-1.96*(s2/n2**0.5)\n",
    "μ2_9=xBar2+1.96*(s2/n2**0.5)\n",
    "μ1_9,μ2_9"
   ]
  },
  {
   "cell_type": "markdown",
   "id": "9e54e056",
   "metadata": {},
   "source": [
    "# 第20題"
   ]
  },
  {
   "cell_type": "code",
   "execution_count": 81,
   "id": "1c94cd70",
   "metadata": {},
   "outputs": [
    {
     "data": {
      "text/plain": [
       "('10人的寬度為', 15.983027878346434, '20人的寬度為', 11.554301713761504, '因此20人比較小')"
      ]
     },
     "execution_count": 81,
     "metadata": {},
     "output_type": "execute_result"
    }
   ],
   "source": [
    "x=μ2-μ1\n",
    "y=μ2_9-μ1_9\n",
    "'10人的寬度為',x,\"20人的寬度為\",y ,\"因此20人比較小\""
   ]
  },
  {
   "cell_type": "markdown",
   "id": "c5f8ace7",
   "metadata": {},
   "source": [
    "# 第五題"
   ]
  },
  {
   "cell_type": "code",
   "execution_count": 82,
   "id": "a4f49a44",
   "metadata": {},
   "outputs": [
    {
     "data": {
      "text/plain": [
       "3.5555555555555554"
      ]
     },
     "execution_count": 82,
     "metadata": {},
     "output_type": "execute_result"
    }
   ],
   "source": [
    "n= 10 \n",
    "μ= 5\n",
    "σ= 2\n",
    "vars2=2*σ**4/(n-1)\n",
    "vars2"
   ]
  },
  {
   "cell_type": "markdown",
   "id": "2745dcc2",
   "metadata": {},
   "source": [
    "#  第十題\n"
   ]
  },
  {
   "cell_type": "code",
   "execution_count": 83,
   "id": "27166037",
   "metadata": {},
   "outputs": [
    {
     "data": {
      "text/plain": [
       "3.1670255245419554e-05"
      ]
     },
     "execution_count": 83,
     "metadata": {},
     "output_type": "execute_result"
    }
   ],
   "source": [
    "st.norm.cdf(6)-st.norm.cdf(4)"
   ]
  },
  {
   "cell_type": "markdown",
   "id": "a609fcd6",
   "metadata": {},
   "source": [
    "# 第13題"
   ]
  },
  {
   "cell_type": "code",
   "execution_count": 91,
   "id": "abce336c",
   "metadata": {},
   "outputs": [
    {
     "data": {
      "text/plain": [
       "(3.7603871572139953, 6.239612842786005)"
      ]
     },
     "execution_count": 91,
     "metadata": {},
     "output_type": "execute_result"
    }
   ],
   "source": [
    "n= 10 \n",
    "μ= 5\n",
    "σ= 2\n",
    "z=st.norm.ppf(0.05)\n",
    "x2=μ+1.96*(σ/(n**0.5))\n",
    "x1=μ-1.96*(σ/(n**0.5))\n",
    "x1,x2"
   ]
  },
  {
   "cell_type": "markdown",
   "id": "b9eda7c0",
   "metadata": {},
   "source": [
    "# 第三題"
   ]
  },
  {
   "cell_type": "code",
   "execution_count": 85,
   "id": "e86fec47",
   "metadata": {},
   "outputs": [
    {
     "data": {
      "text/plain": [
       "'因為xbar=μ故E(T)為0'"
      ]
     },
     "execution_count": 85,
     "metadata": {},
     "output_type": "execute_result"
    }
   ],
   "source": [
    "'因為xbar=μ故E(T)為0'"
   ]
  },
  {
   "cell_type": "markdown",
   "id": "940cc143",
   "metadata": {},
   "source": [
    "# 第六題"
   ]
  },
  {
   "cell_type": "code",
   "execution_count": 86,
   "id": "497ea2aa",
   "metadata": {},
   "outputs": [
    {
     "data": {
      "text/plain": [
       "1.2857142857142858"
      ]
     },
     "execution_count": 86,
     "metadata": {},
     "output_type": "execute_result"
    }
   ],
   "source": [
    "n= 10 \n",
    "(n-1)/(n-3)"
   ]
  },
  {
   "cell_type": "markdown",
   "id": "927ae0c1",
   "metadata": {},
   "source": [
    "# 第十四題"
   ]
  },
  {
   "cell_type": "code",
   "execution_count": 93,
   "id": "f0ae976e",
   "metadata": {},
   "outputs": [
    {
     "data": {
      "text/plain": [
       "(1.8927444794952681, 13.333333333333332)"
      ]
     },
     "execution_count": 93,
     "metadata": {},
     "output_type": "execute_result"
    }
   ],
   "source": [
    "q1=((n-1)*(σ**2)/19.02)\n",
    "q2=((n-1)*(σ**2)/2.7)\n",
    "q1,q2"
   ]
  },
  {
   "cell_type": "markdown",
   "id": "71436c43",
   "metadata": {},
   "source": []
  },
  {
   "cell_type": "markdown",
   "id": "c1f7a15a",
   "metadata": {},
   "source": [
    "# 第十題"
   ]
  },
  {
   "cell_type": "code",
   "execution_count": 95,
   "id": "da211556",
   "metadata": {},
   "outputs": [
    {
     "data": {
      "text/plain": [
       "0.8861537019933419"
      ]
     },
     "execution_count": 95,
     "metadata": {},
     "output_type": "execute_result"
    }
   ],
   "source": [
    "n=10\n",
    "μ=5\n",
    "σ=2\n",
    "st.norm.cdf(6,μ,σ/(n**0.5))-st.norm.cdf(4,μ,σ/(n**0.5))"
   ]
  },
  {
   "cell_type": "markdown",
   "id": "5f0dddb2",
   "metadata": {},
   "source": [
    "# 第11題"
   ]
  },
  {
   "cell_type": "code",
   "execution_count": 99,
   "id": "54448966",
   "metadata": {},
   "outputs": [
    {
     "data": {
      "text/plain": [
       "0.12998671249168164"
      ]
     },
     "execution_count": 99,
     "metadata": {},
     "output_type": "execute_result"
    }
   ],
   "source": [
    "st.chi2.cdf(5,df=9)-st.chi2.cdf(3,df=9)"
   ]
  },
  {
   "cell_type": "code",
   "execution_count": null,
   "id": "0cac0dd0",
   "metadata": {},
   "outputs": [],
   "source": []
  }
 ],
 "metadata": {
  "kernelspec": {
   "display_name": "Python 3",
   "language": "python",
   "name": "python3"
  },
  "language_info": {
   "codemirror_mode": {
    "name": "ipython",
    "version": 3
   },
   "file_extension": ".py",
   "mimetype": "text/x-python",
   "name": "python",
   "nbconvert_exporter": "python",
   "pygments_lexer": "ipython3",
   "version": "3.8.8"
  }
 },
 "nbformat": 4,
 "nbformat_minor": 5
}
