{
 "cells": [
  {
   "cell_type": "code",
   "execution_count": 1,
   "id": "ef9bcd32",
   "metadata": {},
   "outputs": [
    {
     "name": "stdout",
     "output_type": "stream",
     "text": [
      "torch.Size([3, 28, 28])\n",
      "torch.Size([28, 28])\n",
      "tensor(0.3146)\n"
     ]
    }
   ],
   "source": [
    "import torch\n",
    "\n",
    "a = torch.rand(4, 3, 28, 28)\n",
    "print(a[0].shape)\n",
    "print(a[0, 0].shape)\n",
    "print(a[0, 0, 0, 0])  # 到某個index的元素\n",
    "# a"
   ]
  },
  {
   "cell_type": "markdown",
   "id": "5551bcc0",
   "metadata": {},
   "source": [
    "# 切片"
   ]
  },
  {
   "cell_type": "code",
   "execution_count": 2,
   "id": "ff4ff568",
   "metadata": {},
   "outputs": [
    {
     "name": "stdout",
     "output_type": "stream",
     "text": [
      "torch.Size([2, 3, 28, 28])\n",
      "torch.Size([2, 1, 28, 28])\n",
      "torch.Size([2, 2, 28, 28])\n",
      "torch.Size([2, 2, 28, 28])\n"
     ]
    }
   ],
   "source": [
    "print(a[:2].shape)  # 在第一個維度上取後0和1\n",
    "print(a[:2, :1, :, :].shape)  # 在第一個維度上取0和1,在第二個維度上取0\n",
    "print(a[:2, 1:, :, :].shape)  # 在第一個維度上取0和1,在第二個維度上取1,2\n",
    "print(a[:2, -2:, :, :].shape)  # 在第一個維度上取0和1,在第二個維度上取1,2"
   ]
  },
  {
   "cell_type": "code",
   "execution_count": 3,
   "id": "39687f61",
   "metadata": {},
   "outputs": [
    {
     "name": "stdout",
     "output_type": "stream",
     "text": [
      "torch.Size([4, 3, 14, 14])\n",
      "torch.Size([4, 3, 14, 14])\n"
     ]
    }
   ],
   "source": [
    "print(a[:, :, 0:28:2, 0:28:2].shape)  # step=2隔行採樣\n",
    "print(a[:, :, ::2, ::2].shape)  # 等同於這個"
   ]
  },
  {
   "cell_type": "code",
   "execution_count": 4,
   "id": "7dfa310f",
   "metadata": {},
   "outputs": [
    {
     "name": "stdout",
     "output_type": "stream",
     "text": [
      "torch.Size([2, 3, 28, 28])\n",
      "torch.Size([4, 2, 28, 28])\n"
     ]
    }
   ],
   "source": [
    "# 選維度跟範圍\n",
    "# 選擇第一張和第三張圖\n",
    "print(a.index_select(0, torch.tensor([0, 2])).shape)\n",
    "# 選擇R通道和B通道\n",
    "print(a.index_select(1, torch.tensor([0, 2])).shape)"
   ]
  },
  {
   "cell_type": "markdown",
   "id": "90c0c94f",
   "metadata": {},
   "source": [
    "# 多個維度"
   ]
  },
  {
   "cell_type": "code",
   "execution_count": 5,
   "id": "7f0be94b",
   "metadata": {},
   "outputs": [
    {
     "name": "stdout",
     "output_type": "stream",
     "text": [
      "torch.Size([4, 28, 28])\n",
      "torch.Size([4, 3, 28, 2])\n",
      "torch.Size([3, 28, 14])\n"
     ]
    }
   ],
   "source": [
    "print(a[:, 1, ...].shape)\n",
    "print(a[..., :2].shape)\n",
    "print(a[0, ..., ::2].shape)"
   ]
  },
  {
   "cell_type": "markdown",
   "id": "7546b6d3",
   "metadata": {},
   "source": [
    "# mask索引 (篩選類似if)"
   ]
  },
  {
   "cell_type": "code",
   "execution_count": 6,
   "id": "7477e606",
   "metadata": {},
   "outputs": [
    {
     "name": "stdout",
     "output_type": "stream",
     "text": [
      "tensor([[ 0.1478, -0.2105,  0.3812,  0.9232],\n",
      "        [-0.4482,  1.4813, -0.8363, -1.0991],\n",
      "        [ 0.2347, -0.6172, -0.3615,  0.6498]])\n",
      "tensor([[False, False, False,  True],\n",
      "        [False,  True, False, False],\n",
      "        [False, False, False,  True]])\n",
      "tensor([0.9232, 1.4813, 0.6498])\n"
     ]
    }
   ],
   "source": [
    "# 取出a這個Tensor中大於0.5的元素\n",
    "a = torch.randn(3, 4)\n",
    "print(a)\n",
    "x = a.ge(0.5)\n",
    "print(x)\n",
    "print(a[x])\n",
    "# torch.ge?"
   ]
  },
  {
   "cell_type": "markdown",
   "id": "555802a6",
   "metadata": {},
   "source": [
    "# task索引 (創建new tensor並可指定index)"
   ]
  },
  {
   "cell_type": "code",
   "execution_count": 7,
   "id": "d5df823d",
   "metadata": {},
   "outputs": [
    {
     "name": "stdout",
     "output_type": "stream",
     "text": [
      "tensor([[3, 7, 2],\n",
      "        [2, 8, 3]])\n",
      "tensor([3, 7, 3])\n"
     ]
    }
   ],
   "source": [
    "a = torch.tensor([[3, 7, 2], [2, 8, 3]])\n",
    "print(a)\n",
    "print(torch.take(a, torch.tensor([0, 1, 5]))) #index:0、1、5"
   ]
  },
  {
   "cell_type": "code",
   "execution_count": null,
   "id": "8949bdba",
   "metadata": {},
   "outputs": [],
   "source": []
  }
 ],
 "metadata": {
  "kernelspec": {
   "display_name": "pytorch",
   "language": "python",
   "name": "pytorch"
  },
  "language_info": {
   "codemirror_mode": {
    "name": "ipython",
    "version": 3
   },
   "file_extension": ".py",
   "mimetype": "text/x-python",
   "name": "python",
   "nbconvert_exporter": "python",
   "pygments_lexer": "ipython3",
   "version": "3.7.10"
  }
 },
 "nbformat": 4,
 "nbformat_minor": 5
}
