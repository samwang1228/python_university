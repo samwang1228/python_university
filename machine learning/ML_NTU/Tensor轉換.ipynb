{
 "cells": [
  {
   "cell_type": "markdown",
   "id": "cf79fef1",
   "metadata": {},
   "source": [
    "# 改變shape reshape裡的參數要等於之前的"
   ]
  },
  {
   "cell_type": "code",
   "execution_count": 11,
   "id": "c7796651",
   "metadata": {},
   "outputs": [
    {
     "name": "stdout",
     "output_type": "stream",
     "text": [
      "torch.Size([4, 1, 28, 28])\n",
      "torch.Size([4, 14, 56])\n",
      "torch.Size([4, 784])\n"
     ]
    }
   ],
   "source": [
    "import torch\n",
    "a=torch.rand(4,1,28,28)\n",
    "#4*28*28=3126\n",
    "print(a.shape)\n",
    "print(a.reshape(4*1,14,56).shape)\n",
    "print(a.reshape(4,28*28).shape)\n",
    "# print(a.shape)"
   ]
  },
  {
   "cell_type": "markdown",
   "id": "38639a66",
   "metadata": {},
   "source": [
    "# 增加維度(增加1)"
   ]
  },
  {
   "cell_type": "code",
   "execution_count": 16,
   "id": "15477402",
   "metadata": {},
   "outputs": [
    {
     "name": "stdout",
     "output_type": "stream",
     "text": [
      "torch.Size([4, 1, 28, 28])\n",
      "torch.Size([1, 4, 1, 28, 28])\n",
      "torch.Size([4, 1, 28, 28, 1])\n",
      "torch.Size([4, 1, 28, 1, 28])\n"
     ]
    }
   ],
   "source": [
    "print(a.shape)\n",
    "print(a.unsqueeze(0).shape) #在最前面插入一個維度\n",
    "print(a.unsqueeze(-1).shape) #在最後面插入一個維度\n",
    "print(a.unsqueeze(3).shape) #在第三個位置插入一個維度\n"
   ]
  },
  {
   "cell_type": "markdown",
   "id": "4798266b",
   "metadata": {},
   "source": [
    "# 刪除維度(只有1能刪除)"
   ]
  },
  {
   "cell_type": "code",
   "execution_count": 23,
   "id": "4dd6d5ea",
   "metadata": {},
   "outputs": [
    {
     "name": "stdout",
     "output_type": "stream",
     "text": [
      "torch.Size([1, 4, 1, 9])\n",
      "torch.Size([4, 9])\n",
      "torch.Size([4, 1, 9])\n",
      "torch.Size([1, 4, 1, 9])\n",
      "torch.Size([1, 4, 9])\n"
     ]
    }
   ],
   "source": [
    "b=torch.Tensor(1,4,1,9)\n",
    "print(b.shape)\n",
    "print(b.squeeze().shape) #將所有1刪除\n",
    "print(b.squeeze(0).shape) #刪除0號維度 ok \n",
    "print(b.squeeze(1).shape) #刪除1號維度 fail->不等於1\n",
    "print(b.squeeze(2).shape) #刪除2號維度 ok\n",
    "# c=b.squeeze()\n",
    "# print(b,c)"
   ]
  },
  {
   "cell_type": "markdown",
   "id": "52455bdf",
   "metadata": {},
   "source": [
    "# 維度擴增(將位置提升)"
   ]
  },
  {
   "cell_type": "code",
   "execution_count": 26,
   "id": "045b5ecc",
   "metadata": {},
   "outputs": [
    {
     "name": "stdout",
     "output_type": "stream",
     "text": [
      "torch.Size([1, 32, 1, 1])\n",
      "torch.Size([4, 32, 14, 14])\n",
      "torch.Size([32, 32, 224, 224])\n"
     ]
    }
   ],
   "source": [
    "c=torch.rand(32)\n",
    "d=torch.rand(4,32,14,14)\n",
    "c=c.unsqueeze(1).unsqueeze(2).unsqueeze(0)\n",
    "print(c.shape)\n",
    "c=c.expand(4,-1,14,14) #-1代表維持不變寫32也行\n",
    "print(c.shape)\n",
    "c=c.repeat(8,1,16,16) #(8*4,32*1,14*16,14*16)\n",
    "print(c.shape)"
   ]
  },
  {
   "cell_type": "markdown",
   "id": "487ac239",
   "metadata": {},
   "source": [
    "#  transpose"
   ]
  },
  {
   "cell_type": "code",
   "execution_count": 27,
   "id": "4fea01e8",
   "metadata": {},
   "outputs": [
    {
     "name": "stdout",
     "output_type": "stream",
     "text": [
      "torch.Size([4, 2])\n"
     ]
    }
   ],
   "source": [
    "f=torch.Tensor(2,4)\n",
    "print(f.t().shape)"
   ]
  },
  {
   "cell_type": "markdown",
   "id": "2dcb954e",
   "metadata": {},
   "source": [
    "# 維度交換"
   ]
  },
  {
   "cell_type": "code",
   "execution_count": 29,
   "id": "acf71ec4",
   "metadata": {},
   "outputs": [
    {
     "name": "stdout",
     "output_type": "stream",
     "text": [
      "torch.Size([6, 3, 1, 2])\n",
      "torch.Size([6, 2, 1, 3])\n"
     ]
    }
   ],
   "source": [
    "e=torch.Tensor(6,3,1,2)\n",
    "print(e.shape)\n",
    "print(e.transpose(1,3).contiguous().shape)"
   ]
  },
  {
   "cell_type": "markdown",
   "id": "d1126e49",
   "metadata": {},
   "source": [
    "# permute 直接指定維度排列"
   ]
  },
  {
   "cell_type": "code",
   "execution_count": 30,
   "id": "475ec6ea",
   "metadata": {},
   "outputs": [
    {
     "name": "stdout",
     "output_type": "stream",
     "text": [
      "torch.Size([4, 3, 6, 7])\n",
      "torch.Size([4, 6, 7, 3])\n"
     ]
    }
   ],
   "source": [
    "g=torch.rand(4,3,6,7)\n",
    "print(g.shape)\n",
    "print(g.permute(0,2,3,1).shape)"
   ]
  },
  {
   "cell_type": "code",
   "execution_count": null,
   "id": "3761ab42",
   "metadata": {},
   "outputs": [],
   "source": []
  }
 ],
 "metadata": {
  "kernelspec": {
   "display_name": "pytorch",
   "language": "python",
   "name": "pytorch"
  },
  "language_info": {
   "codemirror_mode": {
    "name": "ipython",
    "version": 3
   },
   "file_extension": ".py",
   "mimetype": "text/x-python",
   "name": "python",
   "nbconvert_exporter": "python",
   "pygments_lexer": "ipython3",
   "version": "3.7.10"
  }
 },
 "nbformat": 4,
 "nbformat_minor": 5
}
