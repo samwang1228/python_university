{
 "cells": [
  {
   "cell_type": "code",
   "execution_count": 2,
   "id": "61a08dbc",
   "metadata": {},
   "outputs": [],
   "source": [
    "import torch\n",
    "import numpy as np "
   ]
  },
  {
   "cell_type": "code",
   "execution_count": 10,
   "id": "03ef7718",
   "metadata": {},
   "outputs": [
    {
     "name": "stdout",
     "output_type": "stream",
     "text": [
      "7.0710678118654755\n"
     ]
    },
    {
     "data": {
      "text/plain": [
       "(None, 7.0710678118654755)"
      ]
     },
     "execution_count": 10,
     "metadata": {},
     "output_type": "execute_result"
    }
   ],
   "source": [
    "y_numpy = np.array([3,4,5.])\n",
    "print(np.linalg.norm(y_numpy)), (3**2+4**2+5**2)**(1/2)"
   ]
  },
  {
   "cell_type": "code",
   "execution_count": 12,
   "id": "6ca6a5ab",
   "metadata": {},
   "outputs": [
    {
     "data": {
      "text/plain": [
       "tensor([[0.3828, 0.7397, 0.4490],\n",
       "        [0.7788, 0.4316, 0.4386]])"
      ]
     },
     "execution_count": 12,
     "metadata": {},
     "output_type": "execute_result"
    }
   ],
   "source": [
    "a = torch.rand(1, 2, 3)\n",
    "a[0]"
   ]
  },
  {
   "cell_type": "code",
   "execution_count": 3,
   "id": "7839ccda",
   "metadata": {},
   "outputs": [
    {
     "name": "stdout",
     "output_type": "stream",
     "text": [
      "torch.FloatTensor\n",
      "False\n"
     ]
    },
    {
     "ename": "AssertionError",
     "evalue": "Torch not compiled with CUDA enabled",
     "output_type": "error",
     "traceback": [
      "\u001b[1;31m---------------------------------------------------------------------------\u001b[0m",
      "\u001b[1;31mAssertionError\u001b[0m                            Traceback (most recent call last)",
      "\u001b[1;32m<ipython-input-3-9acbb57865f3>\u001b[0m in \u001b[0;36m<module>\u001b[1;34m\u001b[0m\n\u001b[0;32m      2\u001b[0m \u001b[0mprint\u001b[0m\u001b[1;33m(\u001b[0m\u001b[0ma\u001b[0m\u001b[1;33m.\u001b[0m\u001b[0mtype\u001b[0m\u001b[1;33m(\u001b[0m\u001b[1;33m)\u001b[0m\u001b[1;33m)\u001b[0m\u001b[1;33m\u001b[0m\u001b[1;33m\u001b[0m\u001b[0m\n\u001b[0;32m      3\u001b[0m \u001b[0mprint\u001b[0m\u001b[1;33m(\u001b[0m\u001b[0misinstance\u001b[0m\u001b[1;33m(\u001b[0m\u001b[0ma\u001b[0m\u001b[1;33m,\u001b[0m \u001b[0mtorch\u001b[0m\u001b[1;33m.\u001b[0m\u001b[0mcuda\u001b[0m\u001b[1;33m.\u001b[0m\u001b[0mFloatTensor\u001b[0m\u001b[1;33m)\u001b[0m\u001b[1;33m)\u001b[0m\u001b[1;33m\u001b[0m\u001b[1;33m\u001b[0m\u001b[0m\n\u001b[1;32m----> 4\u001b[1;33m \u001b[0ma\u001b[0m \u001b[1;33m=\u001b[0m \u001b[0ma\u001b[0m\u001b[1;33m.\u001b[0m\u001b[0mcuda\u001b[0m\u001b[1;33m(\u001b[0m\u001b[1;33m)\u001b[0m  \u001b[1;31m# 转换为GPU上的类型\u001b[0m\u001b[1;33m\u001b[0m\u001b[1;33m\u001b[0m\u001b[0m\n\u001b[0m\u001b[0;32m      5\u001b[0m \u001b[0mprint\u001b[0m\u001b[1;33m(\u001b[0m\u001b[0ma\u001b[0m\u001b[1;33m.\u001b[0m\u001b[0mtype\u001b[0m\u001b[1;33m(\u001b[0m\u001b[1;33m)\u001b[0m\u001b[1;33m)\u001b[0m\u001b[1;33m\u001b[0m\u001b[1;33m\u001b[0m\u001b[0m\n\u001b[0;32m      6\u001b[0m \u001b[0mprint\u001b[0m\u001b[1;33m(\u001b[0m\u001b[0misinstance\u001b[0m\u001b[1;33m(\u001b[0m\u001b[0ma\u001b[0m\u001b[1;33m,\u001b[0m \u001b[0mtorch\u001b[0m\u001b[1;33m.\u001b[0m\u001b[0mcuda\u001b[0m\u001b[1;33m.\u001b[0m\u001b[0mFloatTensor\u001b[0m\u001b[1;33m)\u001b[0m\u001b[1;33m)\u001b[0m\u001b[1;33m\u001b[0m\u001b[1;33m\u001b[0m\u001b[0m\n",
      "\u001b[1;32m~\\anaconda3\\envs\\pytorch\\lib\\site-packages\\torch\\cuda\\__init__.py\u001b[0m in \u001b[0;36m_lazy_init\u001b[1;34m()\u001b[0m\n\u001b[0;32m    164\u001b[0m                 \"multiprocessing, you must use the 'spawn' start method\")\n\u001b[0;32m    165\u001b[0m         \u001b[1;32mif\u001b[0m \u001b[1;32mnot\u001b[0m \u001b[0mhasattr\u001b[0m\u001b[1;33m(\u001b[0m\u001b[0mtorch\u001b[0m\u001b[1;33m.\u001b[0m\u001b[0m_C\u001b[0m\u001b[1;33m,\u001b[0m \u001b[1;34m'_cuda_getDeviceCount'\u001b[0m\u001b[1;33m)\u001b[0m\u001b[1;33m:\u001b[0m\u001b[1;33m\u001b[0m\u001b[1;33m\u001b[0m\u001b[0m\n\u001b[1;32m--> 166\u001b[1;33m             \u001b[1;32mraise\u001b[0m \u001b[0mAssertionError\u001b[0m\u001b[1;33m(\u001b[0m\u001b[1;34m\"Torch not compiled with CUDA enabled\"\u001b[0m\u001b[1;33m)\u001b[0m\u001b[1;33m\u001b[0m\u001b[1;33m\u001b[0m\u001b[0m\n\u001b[0m\u001b[0;32m    167\u001b[0m         \u001b[1;32mif\u001b[0m \u001b[0m_cudart\u001b[0m \u001b[1;32mis\u001b[0m \u001b[1;32mNone\u001b[0m\u001b[1;33m:\u001b[0m\u001b[1;33m\u001b[0m\u001b[1;33m\u001b[0m\u001b[0m\n\u001b[0;32m    168\u001b[0m             raise AssertionError(\n",
      "\u001b[1;31mAssertionError\u001b[0m: Torch not compiled with CUDA enabled"
     ]
    }
   ],
   "source": [
    "a = torch.randn(2, 3)\n",
    "print(a.type())\n",
    "print(isinstance(a, torch.cuda.FloatTensor))\n",
    "a = a.cuda()  # 转换为GPU上的类型\n",
    "print(a.type())\n",
    "print(isinstance(a, torch.cuda.FloatTensor))"
   ]
  },
  {
   "cell_type": "markdown",
   "id": "a7640660",
   "metadata": {},
   "source": [
    "# 從numpy建立"
   ]
  },
  {
   "cell_type": "code",
   "execution_count": 1,
   "id": "073999c8",
   "metadata": {},
   "outputs": [],
   "source": [
    "import torch\n",
    "import numpy as np\n",
    "\n",
    "a = np.array([2, 3.3])\n",
    "a = torch.from_numpy(a)  # torch.DoubleTensor"
   ]
  },
  {
   "cell_type": "markdown",
   "id": "16e51fd2",
   "metadata": {},
   "source": [
    "# list建立"
   ]
  },
  {
   "cell_type": "code",
   "execution_count": 2,
   "id": "49810ef7",
   "metadata": {},
   "outputs": [],
   "source": [
    "a = torch.FloatTensor([2, 3.3])  # 尽量少用这种方式,容易和给shape的情况看混淆\n",
    "b = torch.tensor([2, 3.3])  # 现有list时尽量用这种方式"
   ]
  },
  {
   "cell_type": "markdown",
   "id": "6e57e795",
   "metadata": {},
   "source": [
    "# 宣告空間"
   ]
  },
  {
   "cell_type": "code",
   "execution_count": 3,
   "id": "aecb1d73",
   "metadata": {},
   "outputs": [
    {
     "data": {
      "text/plain": [
       "(tensor([[0., 0., 0.],\n",
       "         [0., 0., 0.]]),\n",
       " tensor([[0., 0., 0.],\n",
       "         [0., 0., 0.]]),\n",
       " tensor([[0, 0, 0],\n",
       "         [0, 0, 0]], dtype=torch.int32))"
      ]
     },
     "execution_count": 3,
     "metadata": {},
     "output_type": "execute_result"
    }
   ],
   "source": [
    "a = torch.empty(2, 3)\n",
    "b = torch.FloatTensor(2, 3)\n",
    "c = torch.IntTensor(2, 3)\n",
    "a,b,c"
   ]
  },
  {
   "cell_type": "markdown",
   "id": "5c89e7f7",
   "metadata": {},
   "source": [
    "# 修改tensor的默認類型"
   ]
  },
  {
   "cell_type": "code",
   "execution_count": 9,
   "id": "900135a8",
   "metadata": {},
   "outputs": [
    {
     "name": "stdout",
     "output_type": "stream",
     "text": [
      "torch.DoubleTensor\n",
      "torch.FloatTensor\n"
     ]
    }
   ],
   "source": [
    "print(torch.tensor([1, 2.2]).type())\n",
    "torch.set_default_tensor_type(torch.FloatTensor)\n",
    "print(torch.tensor([1, 2.2]).type())"
   ]
  },
  {
   "cell_type": "code",
   "execution_count": 5,
   "id": "4f14930e",
   "metadata": {},
   "outputs": [
    {
     "name": "stdout",
     "output_type": "stream",
     "text": [
      "torch.DoubleTensor\n"
     ]
    }
   ],
   "source": [
    "print(torch.tensor([1, 2.2]).type())"
   ]
  },
  {
   "cell_type": "markdown",
   "id": "8634e3f2",
   "metadata": {},
   "source": [
    "# assign value"
   ]
  },
  {
   "cell_type": "code",
   "execution_count": 36,
   "id": "60c35252",
   "metadata": {},
   "outputs": [
    {
     "data": {
      "text/plain": [
       "('a.採樣自0~1均勻分佈',\n",
       " tensor([[0.5508, 0.4220, 0.5236],\n",
       "         [0.8468, 0.0456, 0.3533],\n",
       "         [0.3662, 0.8126, 0.5907]]),\n",
       " 'b.like()',\n",
       " tensor([[0.6644, 0.0191, 0.1272],\n",
       "         [0.6289, 0.0827, 0.0267],\n",
       "         [0.8673, 0.3076, 0.4980]]),\n",
       " 'c,在區間[1,10)上隨機採樣 shape(2,2)',\n",
       " tensor([[8, 3],\n",
       "         [1, 5]]),\n",
       " 'd.採樣自N(0,1)',\n",
       " tensor([[ 0.3809, -0.9997,  1.2656],\n",
       "         [ 1.7071,  0.0792,  2.5680],\n",
       "         [ 0.2738,  0.4879,  0.7644]]),\n",
       " 'e.shape=2,3,所使用的相同的元素为7',\n",
       " tensor([[7, 7, 7],\n",
       "         [7, 7, 7]]),\n",
       " 'f.指定均值和標準差',\n",
       " tensor([ 0.2221,  1.0829, -0.3748,  0.3175, -0.2827, -0.5334, -0.3494, -0.2591,\n",
       "          0.0600,  0.0923]),\n",
       " 'g.對角矩陣',\n",
       " tensor([[1., 0., 0., 0.],\n",
       "         [0., 1., 0., 0.],\n",
       "         [0., 0., 1., 0.],\n",
       "         [0., 0., 0., 1.]]),\n",
       " 'h.1矩陣',\n",
       " tensor([[1., 1., 1., 1.],\n",
       "         [1., 1., 1., 1.],\n",
       "         [1., 1., 1., 1.]]),\n",
       " 'i.指數成長',\n",
       " tensor([   2.,    4.,    8.,   16.,   32.,   64.,  128.,  256.,  512., 1024.]))"
      ]
     },
     "execution_count": 36,
     "metadata": {},
     "output_type": "execute_result"
    }
   ],
   "source": [
    "#採樣自0~1均勻分佈\n",
    "a = torch.rand(3, 3)\n",
    "\n",
    "# 形如*_like接受一個Tensor,將這個Tensor的shape讀取出來之後在送入*所表示的函數\n",
    "# 下面的rand_like(a)即將a的shape=3,3讀出來傳給torch.rand()函數\n",
    "b = torch.rand_like(a)  # 相當於執行了torch.rand(3,3)\n",
    "\n",
    "# 在區間[1,10)上隨機採樣,生成shape=2,2的LongTensor\n",
    "c = torch.randint(1, 10, [2, 2])\n",
    "\n",
    "# 採樣自N(0,1)\n",
    "d = torch.randn(3, 3)\n",
    "# shape=2,3,所使用的相同的元素为7\n",
    "e = torch.full([2, 3], 7)\n",
    "# 指定均值和標準差\n",
    "f = torch.normal(mean=torch.full([10], 0.0), std=torch.arange(1, 0, -0.1)) #注意要0.0(float)\n",
    "#對角矩陣\n",
    "g = torch.eye(4, 4)\n",
    "#1矩陣\n",
    "h=torch.ones(3,4)\n",
    "#指數成長\n",
    "i=torch.logspace(start=1, end=10, steps=10, base=2) #從base的start次方取到end次方 並且間隔step個\n",
    "'a.採樣自0~1均勻分佈',a,'b.like()',b,'c,在區間[1,10)上隨機採樣 shape(2,2)',c, 'd.採樣自N(0,1)',d \\\n",
    ",'e.shape=2,3,所使用的相同的元素为7',e,'f.指定均值和標準差',f,'g.對角矩陣',g,'h.1矩陣',h,'i.指數成長',i"
   ]
  },
  {
   "cell_type": "code",
   "execution_count": 21,
   "id": "57b4c18d",
   "metadata": {},
   "outputs": [
    {
     "data": {
      "text/plain": [
       "tensor([   2.,    4.,    8.,   16.,   32.,   64.,  128.,  256.,  512., 1024.])"
      ]
     },
     "execution_count": 21,
     "metadata": {},
     "output_type": "execute_result"
    }
   ],
   "source": [
    "torch.logspace(start=1, end=10, steps=10, base=2)"
   ]
  },
  {
   "cell_type": "code",
   "execution_count": null,
   "id": "47f40831",
   "metadata": {},
   "outputs": [],
   "source": []
  }
 ],
 "metadata": {
  "kernelspec": {
   "display_name": "pytorch",
   "language": "python",
   "name": "pytorch"
  },
  "language_info": {
   "codemirror_mode": {
    "name": "ipython",
    "version": 3
   },
   "file_extension": ".py",
   "mimetype": "text/x-python",
   "name": "python",
   "nbconvert_exporter": "python",
   "pygments_lexer": "ipython3",
   "version": "3.7.10"
  }
 },
 "nbformat": 4,
 "nbformat_minor": 5
}
