{
 "cells": [
  {
   "cell_type": "markdown",
   "id": "7ef8d02a",
   "metadata": {},
   "source": [
    "# norm"
   ]
  },
  {
   "cell_type": "code",
   "execution_count": 18,
   "id": "7b432f10",
   "metadata": {},
   "outputs": [
    {
     "name": "stdout",
     "output_type": "stream",
     "text": [
      "tensor(24.) tensor(24.)\n",
      "tensor(8.4853) tensor(8.4853)\n",
      "tensor([12., 12.])\n",
      "tensor([6., 6.])\n",
      "tensor([[6., 6.],\n",
      "        [6., 6.]])\n"
     ]
    },
    {
     "data": {
      "text/plain": [
       "(tensor([3., 3., 3., 3., 3., 3., 3., 3.]),\n",
       " tensor([[3., 3., 3., 3.],\n",
       "         [3., 3., 3., 3.]]),\n",
       " tensor([[[3., 3.],\n",
       "          [3., 3.]],\n",
       " \n",
       "         [[3., 3.],\n",
       "          [3., 3.]]]))"
      ]
     },
     "execution_count": 18,
     "metadata": {},
     "output_type": "execute_result"
    }
   ],
   "source": [
    "import torch \n",
    "a=torch.full([8],3.)\n",
    "b=a.reshape([2,4])\n",
    "c=a.reshape([2,2,2])\n",
    "print(a.norm(1),b.norm(1)) #所有元素絕對值相加(l1)\n",
    "print(a.norm(2),b.norm(2)) #所有元素平方在開根號(l2)\n",
    "print(b.norm(1,dim=1)) #第一維的4個三求l1\n",
    "print(b.norm(2,dim=1)) #第一維的4個三求l2\n",
    "print(c.norm(1,dim=2)) #第一維的4個三求l1\n",
    "a,b,c"
   ]
  },
  {
   "cell_type": "markdown",
   "id": "37014163",
   "metadata": {},
   "source": [
    "# return max value and index "
   ]
  },
  {
   "cell_type": "code",
   "execution_count": 19,
   "id": "fad35770",
   "metadata": {},
   "outputs": [
    {
     "name": "stdout",
     "output_type": "stream",
     "text": [
      "tensor(7)\n",
      "tensor(7)\n",
      "tensor(3.5000) tensor(7.) tensor(0.) tensor(0.)\n"
     ]
    },
    {
     "data": {
      "text/plain": [
       "(tensor([[0., 1., 2., 3.],\n",
       "         [4., 5., 6., 7.]]),\n",
       " tensor([1, 1, 1, 1]),\n",
       " torch.Size([4]),\n",
       " torch.return_types.max(\n",
       " values=tensor([3., 7.]),\n",
       " indices=tensor([3, 3])))"
      ]
     },
     "execution_count": 19,
     "metadata": {},
     "output_type": "execute_result"
    }
   ],
   "source": [
    "b=torch.arange(8).reshape(2,4).float()\n",
    "print(b.argmax()) #return max value of index\n",
    "print(b.argmax()) #return min value of index\n",
    "c=b.argmax(dim=0) \n",
    "# dim=0 sigle col max value of index\n",
    "# dim=1 sigle row max value of index\n",
    "# and size will only remain sum of max value index\n",
    "print(b.mean(),b.max(),b.min(),b.prod()) #return value\n",
    "d=b.max(dim=1)\n",
    "b,c,c.size(),d"
   ]
  },
  {
   "cell_type": "markdown",
   "id": "f2402adc",
   "metadata": {},
   "source": [
    "# 前k個大/小 跟第k個小 "
   ]
  },
  {
   "cell_type": "code",
   "execution_count": 29,
   "id": "747311ed",
   "metadata": {},
   "outputs": [
    {
     "name": "stdout",
     "output_type": "stream",
     "text": [
      "torch.return_types.topk(\n",
      "values=tensor([[0., 1.],\n",
      "        [4., 5.]]),\n",
      "indices=tensor([[0, 1],\n",
      "        [0, 1]]))\n",
      "torch.return_types.topk(\n",
      "values=tensor([[3., 2.],\n",
      "        [7., 6.]]),\n",
      "indices=tensor([[3, 2],\n",
      "        [3, 2]]))\n",
      "torch.return_types.kthvalue(\n",
      "values=tensor([2., 6.]),\n",
      "indices=tensor([2, 2]))\n"
     ]
    }
   ],
   "source": [
    "print(b.topk(2,dim=1,largest=False)) #前2個最小值\n",
    "print(b.topk(2,dim=1,largest=True)) #前2個最大值\n",
    "print(b.kthvalue(3,dim=1)) #第三小"
   ]
  },
  {
   "cell_type": "markdown",
   "id": "0b32bcbf",
   "metadata": {},
   "source": [
    "#  比較操作"
   ]
  },
  {
   "cell_type": "code",
   "execution_count": 31,
   "id": "1ff15356",
   "metadata": {},
   "outputs": [
    {
     "name": "stdout",
     "output_type": "stream",
     "text": [
      "tensor([[ True, False, False],\n",
      "        [ True,  True, False]])\n",
      "tensor([[ True, False, False],\n",
      "        [ True,  True, False]])\n",
      "tensor([[True, True, True],\n",
      "        [True, True, True]])\n",
      "tensor([[False, False, False],\n",
      "        [False, False, False]])\n",
      "False True\n"
     ]
    }
   ],
   "source": [
    "# import torch \n",
    "a=torch.randn(2,3)\n",
    "b=torch.randn(2,3)\n",
    "print(a>0)\n",
    "print(torch.gt(a,0))\n",
    "print(a!=0)\n",
    "print(torch.eq(a,b))\n",
    "print(torch.equal(a,b),torch.equal(a,a))"
   ]
  },
  {
   "cell_type": "markdown",
   "id": "5496a1d9",
   "metadata": {},
   "source": [
    "# where (condition,a,b) "
   ]
  },
  {
   "cell_type": "markdown",
   "id": "22066d32",
   "metadata": {},
   "source": [
    "if(condition) return a \n",
    "$$\\$$\n",
    "else return b"
   ]
  },
  {
   "cell_type": "code",
   "execution_count": 33,
   "id": "f2d5e6e2",
   "metadata": {},
   "outputs": [
    {
     "name": "stdout",
     "output_type": "stream",
     "text": [
      "tensor([[1, 5],\n",
      "        [6, 4]])\n"
     ]
    }
   ],
   "source": [
    "condition=torch.tensor([[0.6,0.1],[0.2,0.7]])\n",
    "a=torch.tensor([[1,2],[3,4]])\n",
    "b=torch.tensor([[4,5],[6,7]])\n",
    "c=torch.where(condition>0.5,a,b)\n",
    "print (c)"
   ]
  },
  {
   "cell_type": "code",
   "execution_count": 35,
   "id": "81eb2d18",
   "metadata": {},
   "outputs": [
    {
     "name": "stdout",
     "output_type": "stream",
     "text": [
      "---------------------------------------------------------------------------------------------------\n"
     ]
    }
   ],
   "source": [
    "print('-'*99)"
   ]
  },
  {
   "cell_type": "code",
   "execution_count": null,
   "id": "3671be5e",
   "metadata": {},
   "outputs": [],
   "source": []
  }
 ],
 "metadata": {
  "kernelspec": {
   "display_name": "pytorch",
   "language": "python",
   "name": "pytorch"
  },
  "language_info": {
   "codemirror_mode": {
    "name": "ipython",
    "version": 3
   },
   "file_extension": ".py",
   "mimetype": "text/x-python",
   "name": "python",
   "nbconvert_exporter": "python",
   "pygments_lexer": "ipython3",
   "version": "3.7.10"
  }
 },
 "nbformat": 4,
 "nbformat_minor": 5
}
