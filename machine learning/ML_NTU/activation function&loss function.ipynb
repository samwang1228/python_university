{
 "cells": [
  {
   "cell_type": "markdown",
   "id": "b8667de0",
   "metadata": {},
   "source": [
    "# activation function"
   ]
  },
  {
   "cell_type": "markdown",
   "id": "d85a8c0f",
   "metadata": {},
   "source": [
    "# sigmoid (0~1之間)\n"
   ]
  },
  {
   "cell_type": "markdown",
   "id": "8aadbfc3",
   "metadata": {},
   "source": [
    "\\begin{equation}\n",
    "\\sigma(x) =\\frac{1}{1+e^{-x}}  \n",
    "\\end{equation}"
   ]
  },
  {
   "cell_type": "code",
   "execution_count": 2,
   "id": "aac41ef1",
   "metadata": {},
   "outputs": [
    {
     "name": "stdout",
     "output_type": "stream",
     "text": [
      "tensor([0.0000e+00, 1.6655e-34, 7.4564e-25, 3.3382e-15, 1.4945e-05, 9.9999e-01,\n",
      "        1.0000e+00, 1.0000e+00, 1.0000e+00, 1.0000e+00])\n"
     ]
    }
   ],
   "source": [
    "import torch\n",
    "a=torch.linspace(-100,100,10)\n",
    "print(torch.sigmoid(a))"
   ]
  },
  {
   "cell_type": "markdown",
   "id": "be8ccd26",
   "metadata": {},
   "source": [
    "# Tanh (-1~1之間)"
   ]
  },
  {
   "cell_type": "markdown",
   "id": "36be6876",
   "metadata": {},
   "source": [
    "\\begin{equation}\n",
    "Tanh(x) =\\frac{e^x-e^{-x}}{e^x+e^{-x}}  \n",
    "\\end{equation}"
   ]
  },
  {
   "cell_type": "code",
   "execution_count": 3,
   "id": "c161eaa3",
   "metadata": {
    "scrolled": true
   },
   "outputs": [
    {
     "name": "stdout",
     "output_type": "stream",
     "text": [
      "tensor([-0.7616, -0.6514, -0.5047, -0.3215, -0.1107,  0.1107,  0.3215,  0.5047,\n",
      "         0.6514,  0.7616])\n"
     ]
    }
   ],
   "source": [
    "b=torch.linspace(-1,1,10)\n",
    "print(torch.tanh(b))"
   ]
  },
  {
   "cell_type": "markdown",
   "id": "d0457af0",
   "metadata": {},
   "source": [
    "# ReLU"
   ]
  },
  {
   "cell_type": "markdown",
   "id": "c08853bd",
   "metadata": {},
   "source": [
    "$$ f(n)= \\begin{cases} 0, & \\text {if $n$ <0} \\\\ n, & \\text{if $n$ $\\geq$ 0} \\end{cases} $$"
   ]
  },
  {
   "cell_type": "code",
   "execution_count": 4,
   "id": "957e1acc",
   "metadata": {},
   "outputs": [
    {
     "name": "stdout",
     "output_type": "stream",
     "text": [
      "tensor([0.0000, 0.0000, 0.0000, 0.0000, 0.0000, 0.1111, 0.3333, 0.5556, 0.7778,\n",
      "        1.0000])\n"
     ]
    }
   ],
   "source": [
    "c=torch.linspace(-1,1,10)\n",
    "print(torch.relu_(c))"
   ]
  },
  {
   "cell_type": "markdown",
   "id": "a76b2eb0",
   "metadata": {},
   "source": [
    "# Softmax (0~1之間)"
   ]
  },
  {
   "cell_type": "markdown",
   "id": "8a37fbed",
   "metadata": {},
   "source": [
    "\\begin{equation}\n",
    " f(x_j)= \\frac{e^{x_i}} {\\sum_{i=0}^n{e^{x_i}}}\n",
    "\\end{equation}"
   ]
  },
  {
   "cell_type": "code",
   "execution_count": 6,
   "id": "5fbeb054",
   "metadata": {},
   "outputs": [
    {
     "name": "stdout",
     "output_type": "stream",
     "text": [
      "tensor([0.6990, 0.3012, 0.8941], requires_grad=True)\n",
      "tensor([0.3464, 0.2327, 0.4210], grad_fn=<SoftmaxBackward>)\n"
     ]
    }
   ],
   "source": [
    "from torch.nn import functional as F\n",
    "y=torch.rand(3,requires_grad=True)\n",
    "print(y)\n",
    "p=F.softmax(y,dim=0)\n",
    "print(p)"
   ]
  },
  {
   "cell_type": "code",
   "execution_count": 12,
   "id": "edbdaccb",
   "metadata": {},
   "outputs": [
    {
     "data": {
      "text/plain": [
       "0.23267859855548678"
      ]
     },
     "execution_count": 12,
     "metadata": {},
     "output_type": "execute_result"
    }
   ],
   "source": [
    "from math import exp\n",
    "exp(0.3012)/(exp(0.6990)+exp(0.3012)+exp(0.8941))"
   ]
  },
  {
   "cell_type": "markdown",
   "id": "fb44cdb7",
   "metadata": {},
   "source": [
    "# Loss function"
   ]
  },
  {
   "cell_type": "markdown",
   "id": "b07626d4",
   "metadata": {},
   "source": [
    "# MSE ( Mean Squared Error)"
   ]
  },
  {
   "cell_type": "markdown",
   "id": "a29d0214",
   "metadata": {},
   "source": [
    "\\begin{equation}\n",
    " MSE=  \\sum_{i=0}^n {(y_i-(wx_i+b))^2}\n",
    "\\end{equation}"
   ]
  },
  {
   "cell_type": "code",
   "execution_count": 18,
   "id": "c8bbe731",
   "metadata": {},
   "outputs": [
    {
     "name": "stdout",
     "output_type": "stream",
     "text": [
      "tensor(7.9566)\n"
     ]
    },
    {
     "data": {
      "text/plain": [
       "tensor([-2.4879,  0.0075,  0.4899,  0.0115, -0.2638,  0.0579, -0.1706,  0.1368,\n",
       "        -0.2345,  0.2991])"
      ]
     },
     "execution_count": 18,
     "metadata": {},
     "output_type": "execute_result"
    }
   ],
   "source": [
    "y=0.2 \n",
    "pred = torch.randn(10)\n",
    "mse=(pred-y).norm(2).pow(2)\n",
    "print(mse)\n",
    "pred"
   ]
  },
  {
   "cell_type": "code",
   "execution_count": 21,
   "id": "333284b5",
   "metadata": {},
   "outputs": [
    {
     "name": "stdout",
     "output_type": "stream",
     "text": [
      "抽抽抽抽抽抽抽抽抽抽抽抽抽抽抽抽抽抽抽抽抽抽抽抽抽抽抽抽抽抽抽抽抽抽抽抽抽抽抽抽抽抽抽抽抽抽抽抽抽抽抽抽抽抽抽抽抽抽抽抽抽抽抽抽抽抽抽抽抽抽抽抽抽抽抽抽抽抽抽抽抽抽抽抽抽抽抽抽抽抽抽抽抽抽抽抽抽抽抽抽"
     ]
    }
   ],
   "source": [
    "for i in range(100):\n",
    "    print(\"抽\",end='')"
   ]
  },
  {
   "cell_type": "code",
   "execution_count": null,
   "id": "e3b9f858",
   "metadata": {},
   "outputs": [],
   "source": []
  }
 ],
 "metadata": {
  "kernelspec": {
   "display_name": "pytorch",
   "language": "python",
   "name": "pytorch"
  },
  "language_info": {
   "codemirror_mode": {
    "name": "ipython",
    "version": 3
   },
   "file_extension": ".py",
   "mimetype": "text/x-python",
   "name": "python",
   "nbconvert_exporter": "python",
   "pygments_lexer": "ipython3",
   "version": "3.7.10"
  }
 },
 "nbformat": 4,
 "nbformat_minor": 5
}
