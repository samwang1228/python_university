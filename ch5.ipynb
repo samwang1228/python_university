{
 "cells": [
  {
   "cell_type": "markdown",
   "id": "0be0e8f6",
   "metadata": {},
   "source": [
    "# 信心區間"
   ]
  },
  {
   "cell_type": "markdown",
   "id": "d059988c",
   "metadata": {},
   "source": [
    "cdf(z) 為信心區間的%數 ex z=-1.96 ->2.5% Hint :左右兩側皆是2.5% 因此2.5*2=5%  (100-5)%=95%的信心區間z=+-1.96"
   ]
  },
  {
   "cell_type": "code",
   "execution_count": 12,
   "id": "580abca1",
   "metadata": {},
   "outputs": [
    {
     "data": {
      "text/plain": [
       "0.15865525393145707"
      ]
     },
     "execution_count": 12,
     "metadata": {},
     "output_type": "execute_result"
    }
   ],
   "source": [
    "import scipy.stats as st \n",
    "p=st.norm.cdf(-1,0)\n",
    "p"
   ]
  },
  {
   "cell_type": "markdown",
   "id": "4aaee9a9",
   "metadata": {},
   "source": [
    "ppf(%數) 用來算z ex 5% -> ppf(0.05) 得-1.64 因此90%的信心居間z=+-1.64 hint : ppf算出來的值都是負的"
   ]
  },
  {
   "cell_type": "code",
   "execution_count": 2,
   "id": "534f2506",
   "metadata": {},
   "outputs": [
    {
     "data": {
      "text/plain": [
       "1.0"
      ]
     },
     "execution_count": 2,
     "metadata": {},
     "output_type": "execute_result"
    }
   ],
   "source": [
    "z=st.norm.ppf(p)#取得機率的橫坐標\n",
    "z"
   ]
  },
  {
   "cell_type": "code",
   "execution_count": 3,
   "id": "c199e57f",
   "metadata": {},
   "outputs": [
    {
     "data": {
      "text/plain": [
       "0.9772498680518208"
      ]
     },
     "execution_count": 3,
     "metadata": {},
     "output_type": "execute_result"
    }
   ],
   "source": [
    "z=2.0\n",
    "p=st.norm.cdf(z) #取得橫坐標對應的value\n",
    "p"
   ]
  },
  {
   "cell_type": "code",
   "execution_count": 4,
   "id": "47a2390b",
   "metadata": {},
   "outputs": [
    {
     "data": {
      "text/plain": [
       "2.0000000000000004"
      ]
     },
     "execution_count": 4,
     "metadata": {},
     "output_type": "execute_result"
    }
   ],
   "source": [
    "z=st.norm.ppf(p)\n",
    "z"
   ]
  },
  {
   "cell_type": "code",
   "execution_count": 5,
   "id": "0a471945",
   "metadata": {},
   "outputs": [
    {
     "data": {
      "text/plain": [
       "1.959963984540054"
      ]
     },
     "execution_count": 5,
     "metadata": {},
     "output_type": "execute_result"
    }
   ],
   "source": [
    "z=st.norm.ppf(.975)\n",
    "z"
   ]
  },
  {
   "cell_type": "code",
   "execution_count": 6,
   "id": "2826071d",
   "metadata": {},
   "outputs": [
    {
     "data": {
      "text/plain": [
       "0.95"
      ]
     },
     "execution_count": 6,
     "metadata": {},
     "output_type": "execute_result"
    }
   ],
   "source": [
    "st.norm.cdf(z)-st.norm.cdf(-z)"
   ]
  },
  {
   "cell_type": "code",
   "execution_count": 7,
   "id": "499a0562",
   "metadata": {},
   "outputs": [
    {
     "data": {
      "text/plain": [
       "(-1.959963984540054, 1.959963984540054)"
      ]
     },
     "execution_count": 7,
     "metadata": {},
     "output_type": "execute_result"
    }
   ],
   "source": [
    "z1,z2=st.norm.interval(.95)\n",
    "z1,z2"
   ]
  },
  {
   "cell_type": "code",
   "execution_count": 8,
   "id": "68dcb62b",
   "metadata": {},
   "outputs": [
    {
     "data": {
      "text/plain": [
       "-2.575829303548901"
      ]
     },
     "execution_count": 8,
     "metadata": {},
     "output_type": "execute_result"
    }
   ],
   "source": [
    "st.norm.ppf(0.005)"
   ]
  },
  {
   "cell_type": "code",
   "execution_count": 14,
   "id": "522592c6",
   "metadata": {},
   "outputs": [
    {
     "data": {
      "text/plain": [
       "0.024997895148220435"
      ]
     },
     "execution_count": 14,
     "metadata": {},
     "output_type": "execute_result"
    }
   ],
   "source": [
    "st.norm.cdf(-1.96) "
   ]
  },
  {
   "cell_type": "code",
   "execution_count": 16,
   "id": "e17f3ecc",
   "metadata": {},
   "outputs": [
    {
     "data": {
      "text/plain": [
       "-1.6448536269514729"
      ]
     },
     "execution_count": 16,
     "metadata": {},
     "output_type": "execute_result"
    }
   ],
   "source": [
    "st.norm.ppf(0.05)"
   ]
  },
  {
   "cell_type": "markdown",
   "id": "c72cab14",
   "metadata": {},
   "source": [
    "# 5.3  36個樣本 平均=2.6 求95%和 99% 標準差=0.3 hint:如果是變異數記得開根號"
   ]
  },
  {
   "cell_type": "code",
   "execution_count": 18,
   "id": "ba71d9f9",
   "metadata": {},
   "outputs": [
    {
     "data": {
      "text/plain": [
       "-1.9599639845400545"
      ]
     },
     "execution_count": 18,
     "metadata": {},
     "output_type": "execute_result"
    }
   ],
   "source": [
    "z=st.norm.ppf(0.025) \n",
    "z"
   ]
  },
  {
   "cell_type": "code",
   "execution_count": 25,
   "id": "3fc3f2b5",
   "metadata": {},
   "outputs": [
    {
     "name": "stdout",
     "output_type": "stream",
     "text": [
      "2.502001800772997 <μ< 2.697998199227003\n"
     ]
    }
   ],
   "source": [
    "μ=2.6\n",
    "σ=0.3\n",
    "n=36**0.5\n",
    "ans1=μ+z*(σ/n)\n",
    "ans2=μ-z*(σ/n)\n",
    "print(f'{ans1} <μ< {ans2}')"
   ]
  },
  {
   "cell_type": "code",
   "execution_count": 27,
   "id": "f7fe4262",
   "metadata": {},
   "outputs": [
    {
     "name": "stdout",
     "output_type": "stream",
     "text": [
      "2.471208534822555 <μ< 2.728791465177445 -2.575829303548901\n"
     ]
    }
   ],
   "source": [
    "z=st.norm.ppf(0.005)\n",
    "ans1=μ+z*(σ/n)\n",
    "ans2=μ-z*(σ/n)\n",
    "print(f'{ans1} <μ< {ans2} ')"
   ]
  },
  {
   "cell_type": "markdown",
   "id": "01f150db",
   "metadata": {},
   "source": [
    "# 5.4 在5.3中對平均的估測值的偏差小於0.05想要有95%的信心需要多大的樣本 "
   ]
  },
  {
   "cell_type": "code",
   "execution_count": 29,
   "id": "8203893c",
   "metadata": {},
   "outputs": [
    {
     "data": {
      "text/plain": [
       "138.29251754498856"
      ]
     },
     "execution_count": 29,
     "metadata": {},
     "output_type": "execute_result"
    }
   ],
   "source": [
    "e=0.05 #偏差\n",
    "σ=0.3\n",
    "z=st.norm.ppf(0.025)\n",
    "n=(z*σ/e)**2\n",
    "n"
   ]
  },
  {
   "cell_type": "markdown",
   "id": "b51019ce",
   "metadata": {},
   "source": [
    "#  5.5 選出25人 變異數為4秒 平均為6.2秒 平均反應時間的95%之上界"
   ]
  },
  {
   "cell_type": "markdown",
   "id": "1d8d97ef",
   "metadata": {},
   "source": [
    "上界 :(x+z * sigma)/sqrt(n)\n",
    "下界 :(x-z * sigma)/sqrt(n)  x為平均 \n",
    "注意:這裡的z不能是一半"
   ]
  },
  {
   "cell_type": "code",
   "execution_count": 35,
   "id": "175525cd",
   "metadata": {},
   "outputs": [
    {
     "data": {
      "text/plain": [
       "(6.857941450780589, -1.6448536269514729)"
      ]
     },
     "execution_count": 35,
     "metadata": {},
     "output_type": "execute_result"
    }
   ],
   "source": [
    "x=6.2 \n",
    "σ=2\n",
    "n=25**0.5\n",
    "z=st.norm.ppf(0.05)\n",
    "upper=x+abs(z)*σ/n\n",
    "upper, z"
   ]
  },
  {
   "cell_type": "markdown",
   "id": "dec7e7a1",
   "metadata": {},
   "source": [
    "#  5.6 T vol=[9.8,10.2,10.4,9.8,10,10.2,9.6 ] 求全部這樣平均95%的信賴"
   ]
  },
  {
   "cell_type": "markdown",
   "id": "6b05c7fd",
   "metadata": {},
   "source": [
    "當 \\sigma 為未知 -> T分布\n",
    "當 \\sigma 為已知 -> 中央極限分布"
   ]
  },
  {
   "cell_type": "markdown",
   "id": "1e6f8e28",
   "metadata": {},
   "source": [
    "x+ t s/sqrt(n) x-t s/sqrt(n) hint :這裡的t直接放%數 ex求95%那麼st.t.interval(0.95,df=n-1)"
   ]
  },
  {
   "cell_type": "code",
   "execution_count": 43,
   "id": "29c34729",
   "metadata": {},
   "outputs": [
    {
     "data": {
      "text/plain": [
       "(-2.4469118487916806, 2.4469118487916806)"
      ]
     },
     "execution_count": 43,
     "metadata": {},
     "output_type": "execute_result"
    }
   ],
   "source": [
    "import numpy as np\n",
    "x=np.array([9.8 ,10.2 ,10.4,\n",
    "            9.8 ,10.0 ,10.2,\n",
    "            9.6])\n",
    "xBar=x.mean()\n",
    "s=x.std(ddof=1)\n",
    "n=x.size\n",
    "cl=.95\n",
    "t1,t2=st.t.interval(cl,df=n-1)\n",
    "t1 , t2"
   ]
  },
  {
   "cell_type": "code",
   "execution_count": 44,
   "id": "18a86a22",
   "metadata": {},
   "outputs": [
    {
     "data": {
      "text/plain": [
       "array([ 9.73841412, 10.26158588])"
      ]
     },
     "execution_count": 44,
     "metadata": {},
     "output_type": "execute_result"
    }
   ],
   "source": [
    "xBar+np.array([t1,t2]) * s / n**.5"
   ]
  },
  {
   "cell_type": "code",
   "execution_count": 46,
   "id": "bdf7eea1",
   "metadata": {},
   "outputs": [
    {
     "data": {
      "text/plain": [
       "(9.738414120176683, 10.261585879823317)"
      ]
     },
     "execution_count": 46,
     "metadata": {},
     "output_type": "execute_result"
    }
   ],
   "source": [
    "t1,t2 = st.t.interval(cl,\n",
    "                     df=n-1,\n",
    "                     loc=xBar,\n",
    "                     scale=s/n**0.5)\n",
    "t1,t2"
   ]
  },
  {
   "cell_type": "code",
   "execution_count": null,
   "id": "02c41e56",
   "metadata": {},
   "outputs": [],
   "source": []
  }
 ],
 "metadata": {
  "kernelspec": {
   "display_name": "Python 3",
   "language": "python",
   "name": "python3"
  },
  "language_info": {
   "codemirror_mode": {
    "name": "ipython",
    "version": 3
   },
   "file_extension": ".py",
   "mimetype": "text/x-python",
   "name": "python",
   "nbconvert_exporter": "python",
   "pygments_lexer": "ipython3",
   "version": "3.8.8"
  }
 },
 "nbformat": 4,
 "nbformat_minor": 5
}
