{
 "cells": [
  {
   "cell_type": "code",
   "execution_count": 4,
   "metadata": {},
   "outputs": [
    {
     "name": "stdout",
     "output_type": "stream",
     "text": [
      "Max\n",
      "Max__init__\n",
      "Max_sendName\n"
     ]
    }
   ],
   "source": [
    "# variable = 屬性\n",
    "class ThisTestClass:\n",
    "    getName = 'Max'  #方法一：把屬性定義寫在init外面\n",
    "\n",
    "    def __init__(self):\n",
    "        self.getNameFromInit = 'Max__init__'  #方法二：把屬性定義寫在init內\n",
    "        pass\n",
    "\n",
    "\n",
    "if __name__ == '__main__':\n",
    "\n",
    "    task = ThisTestClass()\n",
    "    task.sendName = 'Max_sendName'  ##方法三：自己給屬性與參數\n",
    "\n",
    "    print(task.getName)\n",
    "    print(task.getNameFromInit)\n",
    "    print(task.sendName)\n"
   ]
  },
  {
   "cell_type": "code",
   "execution_count": 11,
   "metadata": {},
   "outputs": [
    {
     "name": "stdout",
     "output_type": "stream",
     "text": [
      "3\n",
      "==getDetals==\n",
      "tree: 3\n",
      "gold: 1\n"
     ]
    }
   ],
   "source": [
    "#繼承\n",
    "class Employee:\n",
    "    def __init__(self):\n",
    "        self.cut_tree = 3\n",
    "    #@property\n",
    "    def getData(self):\n",
    "        return self.cut_tree\n",
    "class Andy(Employee):\n",
    "    def __init__(self, get_gold):\n",
    "        super().__init__() #繼承屬性\n",
    "        self.get_gold = get_gold\n",
    "\n",
    "    def getDetials(self):\n",
    "        print('==getDetals==')\n",
    "        print('tree:', self.cut_tree)\n",
    "        print('gold:', self.get_gold)\n",
    "#而如果子類有與父類擁有同名的函式，則子類會會覆蓋掉父類的函式。\n",
    "\n",
    "if __name__ == \"__main__\":\n",
    "    test=Employee()\n",
    "    print(test.getData())\n",
    "    andy = Andy(1)\n",
    "    andy.getDetials()"
   ]
  },
  {
   "cell_type": "code",
   "execution_count": 16,
   "metadata": {},
   "outputs": [
    {
     "name": "stdout",
     "output_type": "stream",
     "text": [
      "Working\n"
     ]
    },
    {
     "ename": "AttributeError",
     "evalue": "'Employee' object has no attribute '__sleep'",
     "output_type": "error",
     "traceback": [
      "\u001b[1;31m---------------------------------------------------------------------------\u001b[0m",
      "\u001b[1;31mAttributeError\u001b[0m                            Traceback (most recent call last)",
      "\u001b[1;32m<ipython-input-16-957abadddf4b>\u001b[0m in \u001b[0;36m<module>\u001b[1;34m\u001b[0m\n\u001b[0;32m     22\u001b[0m     \u001b[0mandy\u001b[0m \u001b[1;33m=\u001b[0m \u001b[0mEmployee\u001b[0m\u001b[1;33m(\u001b[0m\u001b[1;33m)\u001b[0m\u001b[1;33m\u001b[0m\u001b[1;33m\u001b[0m\u001b[0m\n\u001b[0;32m     23\u001b[0m     \u001b[0mandy\u001b[0m\u001b[1;33m.\u001b[0m\u001b[0mwork\u001b[0m\u001b[1;33m(\u001b[0m\u001b[1;33m)\u001b[0m\u001b[1;33m\u001b[0m\u001b[1;33m\u001b[0m\u001b[0m\n\u001b[1;32m---> 24\u001b[1;33m     \u001b[0mandy\u001b[0m\u001b[1;33m.\u001b[0m\u001b[0m__sleep\u001b[0m\u001b[1;33m(\u001b[0m\u001b[1;33m)\u001b[0m\u001b[1;33m\u001b[0m\u001b[1;33m\u001b[0m\u001b[0m\n\u001b[0m",
      "\u001b[1;31mAttributeError\u001b[0m: 'Employee' object has no attribute '__sleep'"
     ]
    }
   ],
   "source": [
    "# 封裝\n",
    "# 簡單來說：隱藏程式實現細節只保留下接口，使程式容易模組化。\n",
    "\n",
    "# 封裝從字面上理解就是包裝的意思，像是手機，從開機、打電話到上網我們都都不知道背後具題實現細節，\n",
    "# 但只需要按下按鈕就可以完成，這功能就是封裝。\n",
    "# 以下範例 work() 就是封裝的表現，可以讓外部使用者不需考慮內部實作而直接呼叫使用。\n",
    "\n",
    "# 若是有不想被呼叫的變數，直接在前面加上 __ 像是 __sleep即可以成為私有變數\n",
    "# 如果使用者呼叫 __sleep 時則會噴 object has no attribute 的錯誤\n",
    "class Employee:\n",
    "    def __init__(self):\n",
    "        self.cut_tree = 3\n",
    "\n",
    "    def work(self):\n",
    "        print('Working')\n",
    "\n",
    "    def __sleep(self):\n",
    "        print('Sleeping')\n",
    "\n",
    "\n",
    "if __name__ == \"__main__\":\n",
    "    andy = Employee()\n",
    "    andy.work()\n",
    "    #andy.__sleep()"
   ]
  },
  {
   "cell_type": "code",
   "execution_count": 17,
   "metadata": {},
   "outputs": [
    {
     "name": "stdout",
     "output_type": "stream",
     "text": [
      "Employee work\n",
      "Andy work\n",
      "Joy work\n"
     ]
    }
   ],
   "source": [
    "# 簡單來說：呼叫同名的方法時，會得到不同的結果。\n",
    "\n",
    "# 如下範例 Employee、Andy 和 Joy 類別都同時擁有 work 的方法，\n",
    "# 但呼叫 w.work()、w1.work()、w2.work() 時卻有各自的表現形態。\n",
    "# Python 會根據呼叫的類別來決定要執行哪個方法實作，這就是多型的意思。\n",
    "class Employee:\n",
    "    def work(self):\n",
    "        print('Employee work')\n",
    "\n",
    "class Andy(Employee):\n",
    "    def work(self):\n",
    "        print('Andy work')\n",
    "\n",
    "class Joy(Employee):\n",
    "    def work(self):\n",
    "        print('Joy work')\n",
    "\n",
    "\n",
    "w = Employee()\n",
    "w1 = Andy()\n",
    "w2 = Joy()\n",
    "\n",
    "w.work()\n",
    "w1.work()\n",
    "w2.work()\n"
   ]
  },
  {
   "cell_type": "code",
   "execution_count": 24,
   "metadata": {},
   "outputs": [
    {
     "name": "stdout",
     "output_type": "stream",
     "text": [
      "Sleeping hours : 3\n",
      "Working hours : 4\n"
     ]
    }
   ],
   "source": [
    "# ▍StaticMethods 使用方法：\n",
    "\n",
    "# 1.在 def 函式上加上 @staticmethod\n",
    "# 2.不用傳入 self 參數\n",
    "# ▍StaticMethods 使用時機：\n",
    "\n",
    "# 不在需要將 class 實例後才能使用函式，直接像以下範例呼叫 People_StaticMethods.work(4) 即可使用\n",
    "class People_StaticMethods:\n",
    "    def __init__(self):\n",
    "        pass\n",
    "\n",
    "    def sleep(self, sleep_hour):\n",
    "        print('Sleeping hours :', sleep_hour)\n",
    "\n",
    "    @staticmethod\n",
    "    def work(work_hour):\n",
    "        print('Working hours :', work_hour)\n",
    "\n",
    "m = People_StaticMethods()\n",
    "m.sleep(3)\n",
    "\n",
    "People_StaticMethods.work(4) #直接使用不用宣告object"
   ]
  },
  {
   "cell_type": "code",
   "execution_count": 25,
   "metadata": {},
   "outputs": [
    {
     "name": "stdout",
     "output_type": "stream",
     "text": [
      "Working hours : 5\n",
      "Sleeping hours : 6\n"
     ]
    }
   ],
   "source": [
    "# ▍ClassMethods 使用方法：\n",
    "\n",
    "# 1.在 def 函式上加上 @classmethod\n",
    "# 2.必須傳入 class 本身參數，通常大家都會命名為 cls\n",
    "# 3.如果要引入 class 其他函式，可以使用 cls().sleep(6)\n",
    "# ▍ClassMethods 使用時機：\n",
    "\n",
    "# 1.不在需要將 class 實例後才能使用函式，直接像以下範例呼叫 People_ClassMethods.work(5) 即可使用\n",
    "# 2.不同於 StaticMethods，因為多引入了 class 本身參數為 cls，可以利用 cls 來 access 其他 class 內的函式\n",
    "class People_ClassMethods:\n",
    "    def __init__(self):\n",
    "        pass\n",
    "\n",
    "    def sleep(self, sleep_hour):\n",
    "        print('Sleeping hours :', sleep_hour)\n",
    "\n",
    "    @classmethod\n",
    "    def work(cls, work_hour):\n",
    "        print('Working hours :', work_hour)\n",
    "        cls().sleep(6)\n",
    "\n",
    "\n",
    "People_ClassMethods.work(5)"
   ]
  },
  {
   "cell_type": "code",
   "execution_count": 27,
   "metadata": {},
   "outputs": [
    {
     "ename": "IndentationError",
     "evalue": "unexpected indent (<ipython-input-27-2f1920ecd0b7>, line 33)",
     "output_type": "error",
     "traceback": [
      "\u001b[1;36m  File \u001b[1;32m\"<ipython-input-27-2f1920ecd0b7>\"\u001b[1;36m, line \u001b[1;32m33\u001b[0m\n\u001b[1;33m    Max().sleep()\u001b[0m\n\u001b[1;37m    ^\u001b[0m\n\u001b[1;31mIndentationError\u001b[0m\u001b[1;31m:\u001b[0m unexpected indent\n"
     ]
    }
   ],
   "source": [
    "# ▍AbstractMethods 使用時機：\n",
    "\n",
    "# 抽象類 (Employee) 的特點是不能實例化，只能被子類繼承\n",
    "# 任何繼承 Employee 的類，都必須有實現 work 方法，否則會拋出異常，像是 class Max(Employee) 中，\n",
    "# 只定義了 def sleep(self)，沒有定義 work 方法，\n",
    "# 所以再引用時會出現 Can’t instantiate abstractclass Max with abstract methods work 的錯誤。\n",
    "import abc\n",
    "\n",
    "# Python 3.4+\n",
    "\n",
    "class Employee(abc.ABC):\n",
    "    @abc.abstractmethod\n",
    "    def work(self):\n",
    "        return NotImplemented\n",
    "\n",
    "\n",
    "class Andy(Employee):\n",
    "    def work(self):\n",
    "        print('work')\n",
    "\n",
    "\n",
    "class Max(Employee):\n",
    "    def sleep(self):\n",
    "        print('sleep')\n",
    "\n",
    "\n",
    "Andy().work()\n",
    "#>>> work\n",
    "\n",
    "Max().sleep()\n",
    "# >>> Traceback (most recent call last):\n",
    "#   File \"/Users/max/Desktop/python_learning/methods.py\", line 77, in <module>\n",
    "    Max().sleep()\n",
    "# TypeError: Can't instantiate abstractclass Max with abstract methods work"
   ]
  },
  {
   "cell_type": "code",
   "execution_count": 1,
   "metadata": {},
   "outputs": [
    {
     "name": "stdout",
     "output_type": "stream",
     "text": [
      "pygame 1.9.6\n",
      "Hello from the pygame community. https://www.pygame.org/contribute.html\n"
     ]
    }
   ],
   "source": [
    "from enum import Enum, unique\n",
    "from math import sqrt\n",
    "from random import randint\n",
    "\n",
    "import pygame\n",
    "\n",
    "\n",
    "@unique\n",
    "class Color(Enum):\n",
    "    \"\"\"颜色\"\"\"\n",
    "\n",
    "    RED = (255, 0, 0)\n",
    "    GREEN = (0, 255, 0)\n",
    "    BLUE = (0, 0, 255)\n",
    "    BLACK = (0, 0, 0)\n",
    "    WHITE = (255, 255, 255)\n",
    "    GRAY = (242, 242, 242)\n",
    "\n",
    "    @staticmethod\n",
    "    def random_color():\n",
    "        \"\"\"获得随机颜色\"\"\"\n",
    "        r = randint(0, 255)\n",
    "        g = randint(0, 255)\n",
    "        b = randint(0, 255)\n",
    "        return (r, g, b)\n",
    "\n",
    "\n",
    "class Ball(object):\n",
    "    \"\"\"球\"\"\"\n",
    "\n",
    "    def __init__(self, x, y, radius, sx, sy, color=Color.RED):\n",
    "        \"\"\"初始化方法\"\"\"\n",
    "        self.x = x\n",
    "        self.y = y\n",
    "        self.radius = radius\n",
    "        self.sx = sx\n",
    "        self.sy = sy\n",
    "        self.color = color\n",
    "        self.alive = True\n",
    "\n",
    "    def move(self, screen):\n",
    "        \"\"\"移动\"\"\"\n",
    "        self.x += self.sx\n",
    "        self.y += self.sy\n",
    "        if self.x - self.radius <= 0 or \\\n",
    "                self.x + self.radius >= screen.get_width():\n",
    "            self.sx = -self.sx\n",
    "        if self.y - self.radius <= 0 or \\\n",
    "                self.y + self.radius >= screen.get_height():\n",
    "            self.sy = -self.sy\n",
    "\n",
    "    def eat(self, other):\n",
    "        \"\"\"吃其他球\"\"\"\n",
    "        if self.alive and other.alive and self != other:\n",
    "            dx, dy = self.x - other.x, self.y - other.y\n",
    "            distance = sqrt(dx ** 2 + dy ** 2)\n",
    "            if distance < self.radius + other.radius \\\n",
    "                    and self.radius > other.radius:\n",
    "                other.alive = False\n",
    "                self.radius = self.radius + int(other.radius * 0.146)\n",
    "\n",
    "    def draw(self, screen):\n",
    "        \"\"\"在窗口上绘制球\"\"\"\n",
    "        pygame.draw.circle(screen, self.color,\n",
    "                           (self.x, self.y), self.radius, 0)"
   ]
  },
  {
   "cell_type": "code",
   "execution_count": null,
   "metadata": {},
   "outputs": [],
   "source": []
  }
 ],
 "metadata": {
  "kernelspec": {
   "display_name": "Python 3",
   "language": "python",
   "name": "python3"
  },
  "language_info": {
   "codemirror_mode": {
    "name": "ipython",
    "version": 3
   },
   "file_extension": ".py",
   "mimetype": "text/x-python",
   "name": "python",
   "nbconvert_exporter": "python",
   "pygments_lexer": "ipython3",
   "version": "3.8.3"
  }
 },
 "nbformat": 4,
 "nbformat_minor": 4
}
