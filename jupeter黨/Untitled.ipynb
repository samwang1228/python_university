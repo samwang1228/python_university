{
 "cells": [
  {
   "cell_type": "code",
   "execution_count": 6,
   "metadata": {},
   "outputs": [
    {
     "name": "stdout",
     "output_type": "stream",
     "text": [
      "05.05\n",
      "出現新遞補\n",
      "200\n"
     ]
    }
   ],
   "source": [
    "from bs4 import BeautifulSoup #爬蟲套件\n",
    "import requests #取得HTTP資料\n",
    "import time #取得時間\n",
    "response = requests.get(\"http://mis.nchu.edu.tw/category/%e6%8b%9b%e7%94%9f%e8%b3%87%e8%a8%8a\")\n",
    "soup = BeautifulSoup(response.text, \"html.parser\")\n",
    "keyword=\"遞補公告\"\n",
    "content=soup.find(\"h2\").text\n",
    "nowTime = int(time.time()) # 取得現在時間\n",
    "struct_time = time.localtime(nowTime) # 轉換成時間元組\n",
    "timeString = '05.05'#time.strftime(\"%m.%d \", struct_time) # 將時間元組轉\n",
    "title=soup.find('h2').text\n",
    "date=soup.find(\"li\",{\"class\":\"meta-date\"}).text\n",
    "print(timeString)\n",
    "\n",
    "if keyword in title and timeString in title :\n",
    "  print(\"出現新遞補\")\n",
    "  headers = {\n",
    "      \"Authorization\": \"Bearer \" + \"v9QYrWLmoKSDKhnIchp41TcjF0rPkmAAtw0ynEVaFz4\",\n",
    "      \"Content-Type\": \"application/x-www-form-urlencoded\"\n",
    "  }\n",
    "  params = {\"message\": \"中興大學資管所出現新遞補公告\\n\"+\"http://mis.nchu.edu.tw/category/%e6%8b%9b%e7%94%9f%e8%b3%87%e8%a8%8a\"}\n",
    "  r = requests.post(\"https://notify-api.line.me/api/notify\",headers=headers, params=params)\n",
    "  print(r.status_code)  #200\n"
   ]
  },
  {
   "cell_type": "code",
   "execution_count": null,
   "metadata": {},
   "outputs": [],
   "source": []
  }
 ],
 "metadata": {
  "kernelspec": {
   "display_name": "Python 3",
   "language": "python",
   "name": "python3"
  },
  "language_info": {
   "codemirror_mode": {
    "name": "ipython",
    "version": 3
   },
   "file_extension": ".py",
   "mimetype": "text/x-python",
   "name": "python",
   "nbconvert_exporter": "python",
   "pygments_lexer": "ipython3",
   "version": "3.8.3"
  }
 },
 "nbformat": 4,
 "nbformat_minor": 4
}
