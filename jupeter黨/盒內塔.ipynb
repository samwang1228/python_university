{
 "cells": [
  {
   "cell_type": "code",
   "execution_count": 10,
   "metadata": {},
   "outputs": [
    {
     "name": "stdout",
     "output_type": "stream",
     "text": [
      "input your number of disc9\n"
     ]
    },
    {
     "ename": "Terminator",
     "evalue": "",
     "output_type": "error",
     "traceback": [
      "\u001b[1;31m---------------------------------------------------------------------------\u001b[0m",
      "\u001b[1;31mTerminator\u001b[0m                                Traceback (most recent call last)",
      "\u001b[1;32m<ipython-input-10-84cfa3cc9611>\u001b[0m in \u001b[0;36m<module>\u001b[1;34m\u001b[0m\n\u001b[0;32m     79\u001b[0m \u001b[1;33m\u001b[0m\u001b[0m\n\u001b[0;32m     80\u001b[0m \u001b[1;32mif\u001b[0m \u001b[0m__name__\u001b[0m\u001b[1;33m==\u001b[0m\u001b[1;34m\"__main__\"\u001b[0m\u001b[1;33m:\u001b[0m\u001b[1;33m\u001b[0m\u001b[1;33m\u001b[0m\u001b[0m\n\u001b[1;32m---> 81\u001b[1;33m     \u001b[0mmsg\u001b[0m \u001b[1;33m=\u001b[0m \u001b[0mmain\u001b[0m\u001b[1;33m(\u001b[0m\u001b[1;33m)\u001b[0m\u001b[1;33m\u001b[0m\u001b[1;33m\u001b[0m\u001b[0m\n\u001b[0m\u001b[0;32m     82\u001b[0m     \u001b[0mprint\u001b[0m\u001b[1;33m(\u001b[0m\u001b[0mmsg\u001b[0m\u001b[1;33m)\u001b[0m\u001b[1;33m\u001b[0m\u001b[1;33m\u001b[0m\u001b[0m\n\u001b[0;32m     83\u001b[0m     \u001b[0mtk\u001b[0m\u001b[1;33m.\u001b[0m\u001b[0mclear\u001b[0m\u001b[1;33m(\u001b[0m\u001b[1;33m)\u001b[0m\u001b[1;33m\u001b[0m\u001b[1;33m\u001b[0m\u001b[0m\n",
      "\u001b[1;32m<ipython-input-10-84cfa3cc9611>\u001b[0m in \u001b[0;36mmain\u001b[1;34m()\u001b[0m\n\u001b[0;32m     64\u001b[0m     \u001b[1;32mimport\u001b[0m \u001b[0mturtle\u001b[0m \u001b[1;32mas\u001b[0m \u001b[0mtk\u001b[0m\u001b[1;33m\u001b[0m\u001b[1;33m\u001b[0m\u001b[0m\n\u001b[0;32m     65\u001b[0m     \u001b[1;32mglobal\u001b[0m \u001b[0mt1\u001b[0m\u001b[1;33m,\u001b[0m \u001b[0mt2\u001b[0m\u001b[1;33m,\u001b[0m \u001b[0mt3\u001b[0m\u001b[1;33m\u001b[0m\u001b[1;33m\u001b[0m\u001b[0m\n\u001b[1;32m---> 66\u001b[1;33m     \u001b[0mtk\u001b[0m\u001b[1;33m.\u001b[0m\u001b[0mht\u001b[0m\u001b[1;33m(\u001b[0m\u001b[1;33m)\u001b[0m\u001b[1;33m;\u001b[0m \u001b[0mtk\u001b[0m\u001b[1;33m.\u001b[0m\u001b[0mpenup\u001b[0m\u001b[1;33m(\u001b[0m\u001b[1;33m)\u001b[0m\u001b[1;33m;\u001b[0m \u001b[0mtk\u001b[0m\u001b[1;33m.\u001b[0m\u001b[0mgoto\u001b[0m\u001b[1;33m(\u001b[0m\u001b[1;36m0\u001b[0m\u001b[1;33m,\u001b[0m \u001b[1;33m-\u001b[0m\u001b[1;36m225\u001b[0m\u001b[1;33m)\u001b[0m   \u001b[1;31m# writer turtle\u001b[0m\u001b[1;33m\u001b[0m\u001b[1;33m\u001b[0m\u001b[0m\n\u001b[0m\u001b[0;32m     67\u001b[0m     \u001b[0mt1\u001b[0m \u001b[1;33m=\u001b[0m \u001b[0mTower\u001b[0m\u001b[1;33m(\u001b[0m\u001b[1;33m-\u001b[0m\u001b[1;36m250\u001b[0m\u001b[1;33m)\u001b[0m\u001b[1;33m\u001b[0m\u001b[1;33m\u001b[0m\u001b[0m\n\u001b[0;32m     68\u001b[0m     \u001b[0mt2\u001b[0m \u001b[1;33m=\u001b[0m \u001b[0mTower\u001b[0m\u001b[1;33m(\u001b[0m\u001b[1;36m0\u001b[0m\u001b[1;33m)\u001b[0m\u001b[1;33m\u001b[0m\u001b[1;33m\u001b[0m\u001b[0m\n",
      "\u001b[1;32m~\\anaconda3\\lib\\turtle.py\u001b[0m in \u001b[0;36mht\u001b[1;34m()\u001b[0m\n",
      "\u001b[1;31mTerminator\u001b[0m: "
     ]
    }
   ],
   "source": [
    "\n",
    "\"\"\"       turtle-example-suite:\n",
    "\n",
    "         tdemo_minimal_hanoi.py\n",
    "\n",
    "A minimal 'Towers of Hanoi' animation:\n",
    "A tower of 6 discs is transferred from the\n",
    "left to the right peg.\n",
    "\n",
    "An imho quite elegant and concise\n",
    "implementation using a tower class, which\n",
    "is derived from the built-in type list.\n",
    "\n",
    "Discs are turtles with shape \"square\", but\n",
    "stretched to rectangles by shapesize()\n",
    " ---------------------------------------\n",
    "       To exit press STOP button\n",
    " ---------------------------------------\n",
    "\"\"\"\n",
    "import turtle as tk\n",
    "import sys\n",
    "a=input(\"input your number of disc\")\n",
    "a=int(a)\n",
    "class Disc(tk.Turtle):\n",
    "    import turtle as tk\n",
    "    def __init__(self, n):\n",
    "        tk.Turtle.__init__(self, shape=\"square\", visible=False)\n",
    "        self.pu()\n",
    "        self.shapesize(1.5, n*1.5, 2) # square-->rectangle\n",
    "        self.fillcolor(n/a, 0, 1-n/a)\n",
    "        self.st()\n",
    "        self.speed(0)\n",
    "class Tower(list):\n",
    "    import turtle as tk\n",
    "    \"Hanoi tower, a subclass of built-in type list\"\n",
    "    def __init__(self, x):\n",
    "        \"create an empty tower. x is x-position of peg\"\n",
    "        self.x = x\n",
    "    def push(self, d):\n",
    "        d.setx(self.x)\n",
    "        d.sety(-150+34*len(self))\n",
    "        self.append(d)\n",
    "    def pop(self):\n",
    "        d = list.pop(self)\n",
    "        d.sety(150)\n",
    "        return d\n",
    "\n",
    "def hanoi(n, from_, with_, to_):\n",
    "    if n > 0:\n",
    "        hanoi(n-1, from_, to_, with_)\n",
    "        to_.push(from_.pop())\n",
    "        hanoi(n-1, with_, from_, to_)\n",
    "\n",
    "def play():\n",
    "    tk.onkey(None,\"space\")\n",
    "    tk.clear()\n",
    "    try:\n",
    "        hanoi(a, t1, t2, t3)\n",
    "        tk.write(\"press STOP button to exit\",\n",
    "              align=\"center\", font=(\"Courier\", 16, \"bold\"))\n",
    "    except tk.Terminator:\n",
    "        pass  # turtledemo user pressed STOP\n",
    "\n",
    "def main():\n",
    "    import turtle as tk\n",
    "    global t1, t2, t3\n",
    "    tk.ht(); tk.penup(); tk.goto(0, -225)   # writer turtle\n",
    "    t1 = Tower(-250)\n",
    "    t2 = Tower(0)\n",
    "    t3 = Tower(250)\n",
    "    # make tower of 6 discs\n",
    "    for i in range(a,0,-1):\n",
    "        t1.push(Disc(i))\n",
    "    # prepare spartanic user interface ;-)\n",
    "    tk.write(\"press spacebar to start game\",\n",
    "          align=\"center\", font=(\"Courier\", 16, \"bold\"))\n",
    "    tk.onkey(play, \"space\")\n",
    "    tk.listen()\n",
    "    return \"EVENTLOOP\"\n",
    "\n",
    "if __name__==\"__main__\":\n",
    "    msg = main()\n",
    "    print(msg)\n",
    "    tk.clear()\n",
    "    tk.mainloop()\n",
    "    #tk.quit()\n",
    "\n"
   ]
  },
  {
   "cell_type": "code",
   "execution_count": null,
   "metadata": {},
   "outputs": [],
   "source": []
  },
  {
   "cell_type": "code",
   "execution_count": null,
   "metadata": {},
   "outputs": [],
   "source": []
  }
 ],
 "metadata": {
  "kernelspec": {
   "display_name": "Python 3",
   "language": "python",
   "name": "python3"
  },
  "language_info": {
   "codemirror_mode": {
    "name": "ipython",
    "version": 3
   },
   "file_extension": ".py",
   "mimetype": "text/x-python",
   "name": "python",
   "nbconvert_exporter": "python",
   "pygments_lexer": "ipython3",
   "version": "3.8.3"
  }
 },
 "nbformat": 4,
 "nbformat_minor": 4
}
