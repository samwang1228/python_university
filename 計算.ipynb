{
 "cells": [
  {
   "cell_type": "markdown",
   "metadata": {},
   "source": [
    "# 取後放回"
   ]
  },
  {
   "cell_type": "code",
   "execution_count": 15,
   "metadata": {},
   "outputs": [
    {
     "name": "stdout",
     "output_type": "stream",
     "text": [
      "你的X最大值到哪10\n",
      "x=0:0.3486784401000001\n",
      "x=1:0.3874204890000001\n",
      "x=2:0.19371024450000007\n",
      "x=3:0.05739562800000002\n",
      "x=4:0.011160261000000003\n",
      "x=5:0.0014880348000000005\n",
      "x=6:0.00013778100000000007\n",
      "x=7:8.748000000000003e-06\n",
      "x=8:3.6450000000000023e-07\n",
      "x=9:9.000000000000004e-09\n",
      "x=10:1.0000000000000006e-10\n",
      "1.0\n",
      "期望值:1.0000000000000004\n"
     ]
    }
   ],
   "source": [
    "import scipy.special\n",
    "#c(n,k)\n",
    "fx=0;\n",
    "x=int(input(\"你的X最大值到哪\"))+1; #跑迴圈\n",
    "n=x-1;\n",
    "Ex=0;\n",
    "t=0;\n",
    "for i in range(x): #取球放回\n",
    "    fx+=scipy.special.comb(N=n,k=i)*((1/10)**i)*((9/10)**(n-i)); #check 你的函式是否正確\n",
    "    t=scipy.special.comb(N=n,k=i)*((1/10)**i)*((9/10)**(n-i));\n",
    "    print(f'x={i}:{t}');\n",
    "    Ex+=i*scipy.special.comb(N=n,k=i)*((1/10)**i)*((9/10)**(n-i)) #期望值 \n",
    "print(fx);\n",
    "print(f'期望值:{Ex}');"
   ]
  },
  {
   "cell_type": "markdown",
   "metadata": {},
   "source": [
    "# 變異數與標準差"
   ]
  },
  {
   "cell_type": "code",
   "execution_count": 17,
   "metadata": {},
   "outputs": [
    {
     "name": "stdout",
     "output_type": "stream",
     "text": [
      "你的X最大值到哪10\n",
      "x=0:0.3486784401000001\n",
      "x=1:0.3874204890000001\n",
      "x=2:0.19371024450000007\n",
      "x=3:0.05739562800000002\n",
      "x=4:0.011160261000000003\n",
      "x=5:0.0014880348000000005\n",
      "x=6:0.00013778100000000007\n",
      "x=7:8.748000000000003e-06\n",
      "x=8:3.6450000000000023e-07\n",
      "x=9:9.000000000000004e-09\n",
      "x=10:1.0000000000000006e-10\n",
      "1.0\n",
      "變異數:0.9000000000000001\n",
      "標準差:0.9486832980505139\n"
     ]
    }
   ],
   "source": [
    "import scipy.special\n",
    "import math\n",
    "#c(n,k)\n",
    "fx=0;\n",
    "x=int(input(\"你的X最大值到哪\"))+1; #跑迴圈\n",
    "n=x-1;\n",
    "Ex2=0;\n",
    "t=0;\n",
    "varx=0;\n",
    "Ex=0\n",
    "for i in range(x): #取球放回\n",
    "    fx+=scipy.special.comb(N=n,k=i)*((1/10)**i)*((9/10)**(n-i)); #check 你的函式是否正確\n",
    "    t=scipy.special.comb(N=n,k=i)*((1/10)**i)*((9/10)**(n-i));\n",
    "    print(f'x={i}:{t}');\n",
    "    Ex2+=(i**2)*scipy.special.comb(N=n,k=i)*((1/10)**i)*((9/10)**(n-i)) #期望值 \n",
    "    Ex+=i*scipy.special.comb(N=n,k=i)*((1/10)**i)*((9/10)**(n-i))\n",
    "print(fx);\n",
    "print(f'變異數:{Ex2-Ex}');\n",
    "print(f'標準差:{math.sqrt(Ex2-Ex)}');"
   ]
  },
  {
   "cell_type": "markdown",
   "metadata": {},
   "source": [
    "# 取後部放回"
   ]
  },
  {
   "cell_type": "code",
   "execution_count": 1,
   "metadata": {},
   "outputs": [
    {
     "name": "stdout",
     "output_type": "stream",
     "text": [
      "你的X最大值到哪10\n",
      "x=0:0.33047621108672515\n",
      "x=1:0.4079953223292903\n",
      "x=2:0.20150988480897875\n",
      "x=3:0.051793705332428275\n",
      "x=4:0.007553248694312457\n",
      "x=5:0.0006398045952829375\n",
      "x=6:3.099828465518108e-05\n",
      "x=7:8.144048513676475e-07\n",
      "x=8:1.0411425656688674e-08\n",
      "x=9:5.199213811080487e-11\n",
      "x=10:5.776904234533874e-14\n"
     ]
    },
    {
     "data": {
      "text/plain": [
       "0.9999999999999998"
      ]
     },
     "execution_count": 1,
     "metadata": {},
     "output_type": "execute_result"
    }
   ],
   "source": [
    "import scipy.special\n",
    "import math\n",
    "#c(n,k)\n",
    "fx2=0;\n",
    "x=int(input(\"你的X最大值到哪\"))+1; #跑迴圈\n",
    "n=x-1;\n",
    "Ex2=0;\n",
    "t=0;\n",
    "varx=0;\n",
    "Ex=0\n",
    "for i in range(x):\n",
    "    t=scipy.special.comb(N=10,k=i)*scipy.special.comb(N=90,k=n-i)/scipy.special.comb(N=100,k=n)\n",
    "    fx2+=scipy.special.comb(N=10,k=i)*scipy.special.comb(N=90,k=n-i)/scipy.special.comb(N=100,k=n)\n",
    "    print(f'x={i}:{t}');\n",
    "fx2"
   ]
  },
  {
   "cell_type": "code",
   "execution_count": null,
   "metadata": {},
   "outputs": [],
   "source": []
  },
  {
   "cell_type": "code",
   "execution_count": null,
   "metadata": {},
   "outputs": [],
   "source": []
  },
  {
   "cell_type": "markdown",
   "metadata": {},
   "source": [
    "# 積分"
   ]
  },
  {
   "cell_type": "code",
   "execution_count": 2,
   "metadata": {},
   "outputs": [
    {
     "name": "stdout",
     "output_type": "stream",
     "text": [
      "0.9999999999999998\n"
     ]
    }
   ],
   "source": [
    "from scipy import integrate\n",
    "def f(x):\n",
    "    return (x**2 )/3 #your function\n",
    "v, err = integrate.quad(f, -1, 2) #(function , 下界 ,上屆)\n",
    "print (v)"
   ]
  },
  {
   "cell_type": "code",
   "execution_count": null,
   "metadata": {},
   "outputs": [],
   "source": []
  }
 ],
 "metadata": {
  "kernelspec": {
   "display_name": "Python 3",
   "language": "python",
   "name": "python3"
  },
  "language_info": {
   "codemirror_mode": {
    "name": "ipython",
    "version": 3
   },
   "file_extension": ".py",
   "mimetype": "text/x-python",
   "name": "python",
   "nbconvert_exporter": "python",
   "pygments_lexer": "ipython3",
   "version": "3.8.3"
  }
 },
 "nbformat": 4,
 "nbformat_minor": 4
}
